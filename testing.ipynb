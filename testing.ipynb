{
 "cells": [
  {
   "cell_type": "code",
   "execution_count": 59,
   "outputs": [
    {
     "name": "stdout",
     "output_type": "stream",
     "text": [
      "Generating a Portfolio Class\n",
      "Generating a Stock Class\n",
      "Generating an Asset Class\n",
      "Generating an Time Class\n",
      "Generating an API Connection Class\n"
     ]
    }
   ],
   "source": [
    "from Financial_Products import *\n",
    "\n",
    "s_1 = Portfolio()\n",
    "\n",
    "s_3 = Stock('TSLY')"
   ],
   "metadata": {
    "collapsed": false
   }
  },
  {
   "cell_type": "code",
   "execution_count": 60,
   "outputs": [
    {
     "name": "stdout",
     "output_type": "stream",
     "text": [
      "---------------------+---------------------\n",
      "Iniitalize p_2\n",
      "Generating a Portfolio Class\n",
      "---------------------+---------------------\n",
      "---------------------+---------------------\n",
      "FIRST SUM - BEFORE\n",
      "0.25\n",
      "190\n",
      "Generating a Portfolio Class\n",
      "FIRST SUM - AFTER\n",
      "{'Stock': [<Derivative_Trading_Strategy.Financial_Products.Stock.Stock object at 0x1279a7340>, <Derivative_Trading_Strategy.Financial_Products.Stock.Stock object at 0x1279a7340>, <Derivative_Trading_Strategy.Financial_Products.Stock.Stock object at 0x1279a7340>, <Derivative_Trading_Strategy.Financial_Products.Stock.Stock object at 0x1279a7b50>, <Derivative_Trading_Strategy.Financial_Products.Stock.Stock object at 0x1279a7b50>, <Derivative_Trading_Strategy.Financial_Products.Stock.Stock object at 0x1279a7340>, <Derivative_Trading_Strategy.Financial_Products.Stock.Stock object at 0x1279a7340>, <Derivative_Trading_Strategy.Financial_Products.Stock.Stock object at 0x1279a7340>, <Derivative_Trading_Strategy.Financial_Products.Stock.Stock object at 0x1279a7b50>, <Derivative_Trading_Strategy.Financial_Products.Stock.Stock object at 0x127d44cd0>, <Derivative_Trading_Strategy.Financial_Products.Stock.Stock object at 0x127d44cd0>, <Derivative_Trading_Strategy.Financial_Products.Stock.Stock object at 0x1279a7340>, <Derivative_Trading_Strategy.Financial_Products.Stock.Stock object at 0x1279a7340>, <Derivative_Trading_Strategy.Financial_Products.Stock.Stock object at 0x1279a7340>, <Derivative_Trading_Strategy.Financial_Products.Stock.Stock object at 0x1279a7b50>, <Derivative_Trading_Strategy.Financial_Products.Stock.Stock object at 0x1279a7b50>, <Derivative_Trading_Strategy.Financial_Products.Stock.Stock object at 0x1279a7340>, <Derivative_Trading_Strategy.Financial_Products.Stock.Stock object at 0x1279a7340>, <Derivative_Trading_Strategy.Financial_Products.Stock.Stock object at 0x1279a7340>, <Derivative_Trading_Strategy.Financial_Products.Stock.Stock object at 0x1279a7b50>, <Derivative_Trading_Strategy.Financial_Products.Stock.Stock object at 0x127d44cd0>, <Derivative_Trading_Strategy.Financial_Products.Stock.Stock object at 0x127d45ff0>, <Derivative_Trading_Strategy.Financial_Products.Stock.Stock object at 0x127d45ff0>, <Derivative_Trading_Strategy.Financial_Products.Stock.Stock object at 0x1279a7340>, <Derivative_Trading_Strategy.Financial_Products.Stock.Stock object at 0x1279a7340>, <Derivative_Trading_Strategy.Financial_Products.Stock.Stock object at 0x1279a7340>, <Derivative_Trading_Strategy.Financial_Products.Stock.Stock object at 0x1279a7b50>, <Derivative_Trading_Strategy.Financial_Products.Stock.Stock object at 0x1279a7b50>, <Derivative_Trading_Strategy.Financial_Products.Stock.Stock object at 0x1279a7340>, <Derivative_Trading_Strategy.Financial_Products.Stock.Stock object at 0x1279a7340>, <Derivative_Trading_Strategy.Financial_Products.Stock.Stock object at 0x1279a7340>, <Derivative_Trading_Strategy.Financial_Products.Stock.Stock object at 0x1279a7b50>, <Derivative_Trading_Strategy.Financial_Products.Stock.Stock object at 0x127d44cd0>, <Derivative_Trading_Strategy.Financial_Products.Stock.Stock object at 0x127d44cd0>, <Derivative_Trading_Strategy.Financial_Products.Stock.Stock object at 0x1279a7340>, <Derivative_Trading_Strategy.Financial_Products.Stock.Stock object at 0x1279a7340>, <Derivative_Trading_Strategy.Financial_Products.Stock.Stock object at 0x1279a7340>, <Derivative_Trading_Strategy.Financial_Products.Stock.Stock object at 0x1279a7b50>, <Derivative_Trading_Strategy.Financial_Products.Stock.Stock object at 0x1279a7b50>, <Derivative_Trading_Strategy.Financial_Products.Stock.Stock object at 0x1279a7340>, <Derivative_Trading_Strategy.Financial_Products.Stock.Stock object at 0x1279a7340>, <Derivative_Trading_Strategy.Financial_Products.Stock.Stock object at 0x1279a7340>, <Derivative_Trading_Strategy.Financial_Products.Stock.Stock object at 0x1279a7b50>, <Derivative_Trading_Strategy.Financial_Products.Stock.Stock object at 0x127d44cd0>, <Derivative_Trading_Strategy.Financial_Products.Stock.Stock object at 0x127d45ff0>, <Derivative_Trading_Strategy.Financial_Products.Stock.Stock object at 0x127d44f10>, <Derivative_Trading_Strategy.Financial_Products.Stock.Stock object at 0x127d44f10>, <Derivative_Trading_Strategy.Financial_Products.Stock.Stock object at 0x1279a7340>, <Derivative_Trading_Strategy.Financial_Products.Stock.Stock object at 0x1279a7340>, <Derivative_Trading_Strategy.Financial_Products.Stock.Stock object at 0x1279a7340>, <Derivative_Trading_Strategy.Financial_Products.Stock.Stock object at 0x1279a7b50>, <Derivative_Trading_Strategy.Financial_Products.Stock.Stock object at 0x1279a7b50>, <Derivative_Trading_Strategy.Financial_Products.Stock.Stock object at 0x1279a7340>, <Derivative_Trading_Strategy.Financial_Products.Stock.Stock object at 0x1279a7340>, <Derivative_Trading_Strategy.Financial_Products.Stock.Stock object at 0x1279a7340>, <Derivative_Trading_Strategy.Financial_Products.Stock.Stock object at 0x1279a7b50>, <Derivative_Trading_Strategy.Financial_Products.Stock.Stock object at 0x127d44cd0>, <Derivative_Trading_Strategy.Financial_Products.Stock.Stock object at 0x127d44cd0>, <Derivative_Trading_Strategy.Financial_Products.Stock.Stock object at 0x1279a7340>, <Derivative_Trading_Strategy.Financial_Products.Stock.Stock object at 0x1279a7340>, <Derivative_Trading_Strategy.Financial_Products.Stock.Stock object at 0x1279a7340>, <Derivative_Trading_Strategy.Financial_Products.Stock.Stock object at 0x1279a7b50>, <Derivative_Trading_Strategy.Financial_Products.Stock.Stock object at 0x1279a7b50>, <Derivative_Trading_Strategy.Financial_Products.Stock.Stock object at 0x1279a7340>, <Derivative_Trading_Strategy.Financial_Products.Stock.Stock object at 0x1279a7340>, <Derivative_Trading_Strategy.Financial_Products.Stock.Stock object at 0x1279a7340>, <Derivative_Trading_Strategy.Financial_Products.Stock.Stock object at 0x1279a7b50>, <Derivative_Trading_Strategy.Financial_Products.Stock.Stock object at 0x127d44cd0>, <Derivative_Trading_Strategy.Financial_Products.Stock.Stock object at 0x127d45ff0>, <Derivative_Trading_Strategy.Financial_Products.Stock.Stock object at 0x127d45ff0>, <Derivative_Trading_Strategy.Financial_Products.Stock.Stock object at 0x1279a7340>, <Derivative_Trading_Strategy.Financial_Products.Stock.Stock object at 0x1279a7340>, <Derivative_Trading_Strategy.Financial_Products.Stock.Stock object at 0x1279a7340>, <Derivative_Trading_Strategy.Financial_Products.Stock.Stock object at 0x1279a7b50>, <Derivative_Trading_Strategy.Financial_Products.Stock.Stock object at 0x1279a7b50>, <Derivative_Trading_Strategy.Financial_Products.Stock.Stock object at 0x1279a7340>, <Derivative_Trading_Strategy.Financial_Products.Stock.Stock object at 0x1279a7340>, <Derivative_Trading_Strategy.Financial_Products.Stock.Stock object at 0x1279a7340>, <Derivative_Trading_Strategy.Financial_Products.Stock.Stock object at 0x1279a7b50>, <Derivative_Trading_Strategy.Financial_Products.Stock.Stock object at 0x127d44cd0>, <Derivative_Trading_Strategy.Financial_Products.Stock.Stock object at 0x127d44cd0>, <Derivative_Trading_Strategy.Financial_Products.Stock.Stock object at 0x1279a7340>, <Derivative_Trading_Strategy.Financial_Products.Stock.Stock object at 0x1279a7340>, <Derivative_Trading_Strategy.Financial_Products.Stock.Stock object at 0x1279a7340>, <Derivative_Trading_Strategy.Financial_Products.Stock.Stock object at 0x1279a7b50>, <Derivative_Trading_Strategy.Financial_Products.Stock.Stock object at 0x1279a7b50>, <Derivative_Trading_Strategy.Financial_Products.Stock.Stock object at 0x1279a7340>, <Derivative_Trading_Strategy.Financial_Products.Stock.Stock object at 0x1279a7340>, <Derivative_Trading_Strategy.Financial_Products.Stock.Stock object at 0x1279a7340>, <Derivative_Trading_Strategy.Financial_Products.Stock.Stock object at 0x1279a7b50>, <Derivative_Trading_Strategy.Financial_Products.Stock.Stock object at 0x127d44cd0>, <Derivative_Trading_Strategy.Financial_Products.Stock.Stock object at 0x127d45ff0>, <Derivative_Trading_Strategy.Financial_Products.Stock.Stock object at 0x127d44f10>, <Derivative_Trading_Strategy.Financial_Products.Stock.Stock object at 0x127d461d0>, <Derivative_Trading_Strategy.Financial_Products.Stock.Stock object at 0x127d461d0>, <Derivative_Trading_Strategy.Financial_Products.Stock.Stock object at 0x1279a7340>, <Derivative_Trading_Strategy.Financial_Products.Stock.Stock object at 0x1279a7340>, <Derivative_Trading_Strategy.Financial_Products.Stock.Stock object at 0x1279a7340>, <Derivative_Trading_Strategy.Financial_Products.Stock.Stock object at 0x1279a7b50>, <Derivative_Trading_Strategy.Financial_Products.Stock.Stock object at 0x1279a7b50>, <Derivative_Trading_Strategy.Financial_Products.Stock.Stock object at 0x1279a7340>, <Derivative_Trading_Strategy.Financial_Products.Stock.Stock object at 0x1279a7340>, <Derivative_Trading_Strategy.Financial_Products.Stock.Stock object at 0x1279a7340>, <Derivative_Trading_Strategy.Financial_Products.Stock.Stock object at 0x1279a7b50>, <Derivative_Trading_Strategy.Financial_Products.Stock.Stock object at 0x127d44cd0>, <Derivative_Trading_Strategy.Financial_Products.Stock.Stock object at 0x127d44cd0>, <Derivative_Trading_Strategy.Financial_Products.Stock.Stock object at 0x1279a7340>, <Derivative_Trading_Strategy.Financial_Products.Stock.Stock object at 0x1279a7340>, <Derivative_Trading_Strategy.Financial_Products.Stock.Stock object at 0x1279a7340>, <Derivative_Trading_Strategy.Financial_Products.Stock.Stock object at 0x1279a7b50>, <Derivative_Trading_Strategy.Financial_Products.Stock.Stock object at 0x1279a7b50>, <Derivative_Trading_Strategy.Financial_Products.Stock.Stock object at 0x1279a7340>, <Derivative_Trading_Strategy.Financial_Products.Stock.Stock object at 0x1279a7340>, <Derivative_Trading_Strategy.Financial_Products.Stock.Stock object at 0x1279a7340>, <Derivative_Trading_Strategy.Financial_Products.Stock.Stock object at 0x1279a7b50>, <Derivative_Trading_Strategy.Financial_Products.Stock.Stock object at 0x127d44cd0>, <Derivative_Trading_Strategy.Financial_Products.Stock.Stock object at 0x127d45ff0>, <Derivative_Trading_Strategy.Financial_Products.Stock.Stock object at 0x127d45ff0>, <Derivative_Trading_Strategy.Financial_Products.Stock.Stock object at 0x1279a7340>, <Derivative_Trading_Strategy.Financial_Products.Stock.Stock object at 0x1279a7340>, <Derivative_Trading_Strategy.Financial_Products.Stock.Stock object at 0x1279a7340>, <Derivative_Trading_Strategy.Financial_Products.Stock.Stock object at 0x1279a7b50>, <Derivative_Trading_Strategy.Financial_Products.Stock.Stock object at 0x1279a7b50>, <Derivative_Trading_Strategy.Financial_Products.Stock.Stock object at 0x1279a7340>, <Derivative_Trading_Strategy.Financial_Products.Stock.Stock object at 0x1279a7340>, <Derivative_Trading_Strategy.Financial_Products.Stock.Stock object at 0x1279a7340>, <Derivative_Trading_Strategy.Financial_Products.Stock.Stock object at 0x1279a7b50>, <Derivative_Trading_Strategy.Financial_Products.Stock.Stock object at 0x127d44cd0>, <Derivative_Trading_Strategy.Financial_Products.Stock.Stock object at 0x127d44cd0>, <Derivative_Trading_Strategy.Financial_Products.Stock.Stock object at 0x1279a7340>, <Derivative_Trading_Strategy.Financial_Products.Stock.Stock object at 0x1279a7340>, <Derivative_Trading_Strategy.Financial_Products.Stock.Stock object at 0x1279a7340>, <Derivative_Trading_Strategy.Financial_Products.Stock.Stock object at 0x1279a7b50>, <Derivative_Trading_Strategy.Financial_Products.Stock.Stock object at 0x1279a7b50>, <Derivative_Trading_Strategy.Financial_Products.Stock.Stock object at 0x1279a7340>, <Derivative_Trading_Strategy.Financial_Products.Stock.Stock object at 0x1279a7340>, <Derivative_Trading_Strategy.Financial_Products.Stock.Stock object at 0x1279a7340>, <Derivative_Trading_Strategy.Financial_Products.Stock.Stock object at 0x1279a7b50>, <Derivative_Trading_Strategy.Financial_Products.Stock.Stock object at 0x127d44cd0>, <Derivative_Trading_Strategy.Financial_Products.Stock.Stock object at 0x127d45ff0>, <Derivative_Trading_Strategy.Financial_Products.Stock.Stock object at 0x127d44f10>, <Derivative_Trading_Strategy.Financial_Products.Stock.Stock object at 0x127d44f10>, <Derivative_Trading_Strategy.Financial_Products.Stock.Stock object at 0x1279a7340>, <Derivative_Trading_Strategy.Financial_Products.Stock.Stock object at 0x1279a7340>, <Derivative_Trading_Strategy.Financial_Products.Stock.Stock object at 0x1279a7340>, <Derivative_Trading_Strategy.Financial_Products.Stock.Stock object at 0x1279a7b50>, <Derivative_Trading_Strategy.Financial_Products.Stock.Stock object at 0x1279a7b50>, <Derivative_Trading_Strategy.Financial_Products.Stock.Stock object at 0x1279a7340>, <Derivative_Trading_Strategy.Financial_Products.Stock.Stock object at 0x1279a7340>, <Derivative_Trading_Strategy.Financial_Products.Stock.Stock object at 0x1279a7340>, <Derivative_Trading_Strategy.Financial_Products.Stock.Stock object at 0x1279a7b50>, <Derivative_Trading_Strategy.Financial_Products.Stock.Stock object at 0x127d44cd0>, <Derivative_Trading_Strategy.Financial_Products.Stock.Stock object at 0x127d44cd0>, <Derivative_Trading_Strategy.Financial_Products.Stock.Stock object at 0x1279a7340>, <Derivative_Trading_Strategy.Financial_Products.Stock.Stock object at 0x1279a7340>, <Derivative_Trading_Strategy.Financial_Products.Stock.Stock object at 0x1279a7340>, <Derivative_Trading_Strategy.Financial_Products.Stock.Stock object at 0x1279a7b50>, <Derivative_Trading_Strategy.Financial_Products.Stock.Stock object at 0x1279a7b50>, <Derivative_Trading_Strategy.Financial_Products.Stock.Stock object at 0x1279a7340>, <Derivative_Trading_Strategy.Financial_Products.Stock.Stock object at 0x1279a7340>, <Derivative_Trading_Strategy.Financial_Products.Stock.Stock object at 0x1279a7340>, <Derivative_Trading_Strategy.Financial_Products.Stock.Stock object at 0x1279a7b50>, <Derivative_Trading_Strategy.Financial_Products.Stock.Stock object at 0x127d44cd0>, <Derivative_Trading_Strategy.Financial_Products.Stock.Stock object at 0x127d45ff0>, <Derivative_Trading_Strategy.Financial_Products.Stock.Stock object at 0x127d45ff0>, <Derivative_Trading_Strategy.Financial_Products.Stock.Stock object at 0x1279a7340>, <Derivative_Trading_Strategy.Financial_Products.Stock.Stock object at 0x1279a7340>, <Derivative_Trading_Strategy.Financial_Products.Stock.Stock object at 0x1279a7340>, <Derivative_Trading_Strategy.Financial_Products.Stock.Stock object at 0x1279a7b50>, <Derivative_Trading_Strategy.Financial_Products.Stock.Stock object at 0x1279a7b50>, <Derivative_Trading_Strategy.Financial_Products.Stock.Stock object at 0x1279a7340>, <Derivative_Trading_Strategy.Financial_Products.Stock.Stock object at 0x1279a7340>, <Derivative_Trading_Strategy.Financial_Products.Stock.Stock object at 0x1279a7340>, <Derivative_Trading_Strategy.Financial_Products.Stock.Stock object at 0x1279a7b50>, <Derivative_Trading_Strategy.Financial_Products.Stock.Stock object at 0x127d44cd0>, <Derivative_Trading_Strategy.Financial_Products.Stock.Stock object at 0x127d44cd0>, <Derivative_Trading_Strategy.Financial_Products.Stock.Stock object at 0x1279a7340>, <Derivative_Trading_Strategy.Financial_Products.Stock.Stock object at 0x1279a7340>, <Derivative_Trading_Strategy.Financial_Products.Stock.Stock object at 0x1279a7340>, <Derivative_Trading_Strategy.Financial_Products.Stock.Stock object at 0x1279a7b50>, <Derivative_Trading_Strategy.Financial_Products.Stock.Stock object at 0x1279a7b50>, <Derivative_Trading_Strategy.Financial_Products.Stock.Stock object at 0x1279a7340>, <Derivative_Trading_Strategy.Financial_Products.Stock.Stock object at 0x1279a7340>, <Derivative_Trading_Strategy.Financial_Products.Stock.Stock object at 0x1279a7340>, <Derivative_Trading_Strategy.Financial_Products.Stock.Stock object at 0x1279a7b50>, <Derivative_Trading_Strategy.Financial_Products.Stock.Stock object at 0x127d44cd0>, <Derivative_Trading_Strategy.Financial_Products.Stock.Stock object at 0x127d45ff0>, <Derivative_Trading_Strategy.Financial_Products.Stock.Stock object at 0x127d44f10>, <Derivative_Trading_Strategy.Financial_Products.Stock.Stock object at 0x127d461d0>, <Derivative_Trading_Strategy.Financial_Products.Stock.Stock object at 0x127e46440>], 'Option': [], 'Cash': [], 'FX': [], 'Crypto': [], 'Index': []}\n",
      "---------------------+---------------------\n",
      "---------------------+---------------------\n",
      "SECOND SUM\n",
      "0.25\n",
      "191\n",
      "Generating a Portfolio Class\n",
      "SECOND SUM - AFTER\n",
      "{'Stock': [<Derivative_Trading_Strategy.Financial_Products.Stock.Stock object at 0x1279a7340>, <Derivative_Trading_Strategy.Financial_Products.Stock.Stock object at 0x1279a7340>, <Derivative_Trading_Strategy.Financial_Products.Stock.Stock object at 0x1279a7340>, <Derivative_Trading_Strategy.Financial_Products.Stock.Stock object at 0x1279a7b50>, <Derivative_Trading_Strategy.Financial_Products.Stock.Stock object at 0x1279a7b50>, <Derivative_Trading_Strategy.Financial_Products.Stock.Stock object at 0x1279a7340>, <Derivative_Trading_Strategy.Financial_Products.Stock.Stock object at 0x1279a7340>, <Derivative_Trading_Strategy.Financial_Products.Stock.Stock object at 0x1279a7340>, <Derivative_Trading_Strategy.Financial_Products.Stock.Stock object at 0x1279a7b50>, <Derivative_Trading_Strategy.Financial_Products.Stock.Stock object at 0x127d44cd0>, <Derivative_Trading_Strategy.Financial_Products.Stock.Stock object at 0x127d44cd0>, <Derivative_Trading_Strategy.Financial_Products.Stock.Stock object at 0x1279a7340>, <Derivative_Trading_Strategy.Financial_Products.Stock.Stock object at 0x1279a7340>, <Derivative_Trading_Strategy.Financial_Products.Stock.Stock object at 0x1279a7340>, <Derivative_Trading_Strategy.Financial_Products.Stock.Stock object at 0x1279a7b50>, <Derivative_Trading_Strategy.Financial_Products.Stock.Stock object at 0x1279a7b50>, <Derivative_Trading_Strategy.Financial_Products.Stock.Stock object at 0x1279a7340>, <Derivative_Trading_Strategy.Financial_Products.Stock.Stock object at 0x1279a7340>, <Derivative_Trading_Strategy.Financial_Products.Stock.Stock object at 0x1279a7340>, <Derivative_Trading_Strategy.Financial_Products.Stock.Stock object at 0x1279a7b50>, <Derivative_Trading_Strategy.Financial_Products.Stock.Stock object at 0x127d44cd0>, <Derivative_Trading_Strategy.Financial_Products.Stock.Stock object at 0x127d45ff0>, <Derivative_Trading_Strategy.Financial_Products.Stock.Stock object at 0x127d45ff0>, <Derivative_Trading_Strategy.Financial_Products.Stock.Stock object at 0x1279a7340>, <Derivative_Trading_Strategy.Financial_Products.Stock.Stock object at 0x1279a7340>, <Derivative_Trading_Strategy.Financial_Products.Stock.Stock object at 0x1279a7340>, <Derivative_Trading_Strategy.Financial_Products.Stock.Stock object at 0x1279a7b50>, <Derivative_Trading_Strategy.Financial_Products.Stock.Stock object at 0x1279a7b50>, <Derivative_Trading_Strategy.Financial_Products.Stock.Stock object at 0x1279a7340>, <Derivative_Trading_Strategy.Financial_Products.Stock.Stock object at 0x1279a7340>, <Derivative_Trading_Strategy.Financial_Products.Stock.Stock object at 0x1279a7340>, <Derivative_Trading_Strategy.Financial_Products.Stock.Stock object at 0x1279a7b50>, <Derivative_Trading_Strategy.Financial_Products.Stock.Stock object at 0x127d44cd0>, <Derivative_Trading_Strategy.Financial_Products.Stock.Stock object at 0x127d44cd0>, <Derivative_Trading_Strategy.Financial_Products.Stock.Stock object at 0x1279a7340>, <Derivative_Trading_Strategy.Financial_Products.Stock.Stock object at 0x1279a7340>, <Derivative_Trading_Strategy.Financial_Products.Stock.Stock object at 0x1279a7340>, <Derivative_Trading_Strategy.Financial_Products.Stock.Stock object at 0x1279a7b50>, <Derivative_Trading_Strategy.Financial_Products.Stock.Stock object at 0x1279a7b50>, <Derivative_Trading_Strategy.Financial_Products.Stock.Stock object at 0x1279a7340>, <Derivative_Trading_Strategy.Financial_Products.Stock.Stock object at 0x1279a7340>, <Derivative_Trading_Strategy.Financial_Products.Stock.Stock object at 0x1279a7340>, <Derivative_Trading_Strategy.Financial_Products.Stock.Stock object at 0x1279a7b50>, <Derivative_Trading_Strategy.Financial_Products.Stock.Stock object at 0x127d44cd0>, <Derivative_Trading_Strategy.Financial_Products.Stock.Stock object at 0x127d45ff0>, <Derivative_Trading_Strategy.Financial_Products.Stock.Stock object at 0x127d44f10>, <Derivative_Trading_Strategy.Financial_Products.Stock.Stock object at 0x127d44f10>, <Derivative_Trading_Strategy.Financial_Products.Stock.Stock object at 0x1279a7340>, <Derivative_Trading_Strategy.Financial_Products.Stock.Stock object at 0x1279a7340>, <Derivative_Trading_Strategy.Financial_Products.Stock.Stock object at 0x1279a7340>, <Derivative_Trading_Strategy.Financial_Products.Stock.Stock object at 0x1279a7b50>, <Derivative_Trading_Strategy.Financial_Products.Stock.Stock object at 0x1279a7b50>, <Derivative_Trading_Strategy.Financial_Products.Stock.Stock object at 0x1279a7340>, <Derivative_Trading_Strategy.Financial_Products.Stock.Stock object at 0x1279a7340>, <Derivative_Trading_Strategy.Financial_Products.Stock.Stock object at 0x1279a7340>, <Derivative_Trading_Strategy.Financial_Products.Stock.Stock object at 0x1279a7b50>, <Derivative_Trading_Strategy.Financial_Products.Stock.Stock object at 0x127d44cd0>, <Derivative_Trading_Strategy.Financial_Products.Stock.Stock object at 0x127d44cd0>, <Derivative_Trading_Strategy.Financial_Products.Stock.Stock object at 0x1279a7340>, <Derivative_Trading_Strategy.Financial_Products.Stock.Stock object at 0x1279a7340>, <Derivative_Trading_Strategy.Financial_Products.Stock.Stock object at 0x1279a7340>, <Derivative_Trading_Strategy.Financial_Products.Stock.Stock object at 0x1279a7b50>, <Derivative_Trading_Strategy.Financial_Products.Stock.Stock object at 0x1279a7b50>, <Derivative_Trading_Strategy.Financial_Products.Stock.Stock object at 0x1279a7340>, <Derivative_Trading_Strategy.Financial_Products.Stock.Stock object at 0x1279a7340>, <Derivative_Trading_Strategy.Financial_Products.Stock.Stock object at 0x1279a7340>, <Derivative_Trading_Strategy.Financial_Products.Stock.Stock object at 0x1279a7b50>, <Derivative_Trading_Strategy.Financial_Products.Stock.Stock object at 0x127d44cd0>, <Derivative_Trading_Strategy.Financial_Products.Stock.Stock object at 0x127d45ff0>, <Derivative_Trading_Strategy.Financial_Products.Stock.Stock object at 0x127d45ff0>, <Derivative_Trading_Strategy.Financial_Products.Stock.Stock object at 0x1279a7340>, <Derivative_Trading_Strategy.Financial_Products.Stock.Stock object at 0x1279a7340>, <Derivative_Trading_Strategy.Financial_Products.Stock.Stock object at 0x1279a7340>, <Derivative_Trading_Strategy.Financial_Products.Stock.Stock object at 0x1279a7b50>, <Derivative_Trading_Strategy.Financial_Products.Stock.Stock object at 0x1279a7b50>, <Derivative_Trading_Strategy.Financial_Products.Stock.Stock object at 0x1279a7340>, <Derivative_Trading_Strategy.Financial_Products.Stock.Stock object at 0x1279a7340>, <Derivative_Trading_Strategy.Financial_Products.Stock.Stock object at 0x1279a7340>, <Derivative_Trading_Strategy.Financial_Products.Stock.Stock object at 0x1279a7b50>, <Derivative_Trading_Strategy.Financial_Products.Stock.Stock object at 0x127d44cd0>, <Derivative_Trading_Strategy.Financial_Products.Stock.Stock object at 0x127d44cd0>, <Derivative_Trading_Strategy.Financial_Products.Stock.Stock object at 0x1279a7340>, <Derivative_Trading_Strategy.Financial_Products.Stock.Stock object at 0x1279a7340>, <Derivative_Trading_Strategy.Financial_Products.Stock.Stock object at 0x1279a7340>, <Derivative_Trading_Strategy.Financial_Products.Stock.Stock object at 0x1279a7b50>, <Derivative_Trading_Strategy.Financial_Products.Stock.Stock object at 0x1279a7b50>, <Derivative_Trading_Strategy.Financial_Products.Stock.Stock object at 0x1279a7340>, <Derivative_Trading_Strategy.Financial_Products.Stock.Stock object at 0x1279a7340>, <Derivative_Trading_Strategy.Financial_Products.Stock.Stock object at 0x1279a7340>, <Derivative_Trading_Strategy.Financial_Products.Stock.Stock object at 0x1279a7b50>, <Derivative_Trading_Strategy.Financial_Products.Stock.Stock object at 0x127d44cd0>, <Derivative_Trading_Strategy.Financial_Products.Stock.Stock object at 0x127d45ff0>, <Derivative_Trading_Strategy.Financial_Products.Stock.Stock object at 0x127d44f10>, <Derivative_Trading_Strategy.Financial_Products.Stock.Stock object at 0x127d461d0>, <Derivative_Trading_Strategy.Financial_Products.Stock.Stock object at 0x127d461d0>, <Derivative_Trading_Strategy.Financial_Products.Stock.Stock object at 0x1279a7340>, <Derivative_Trading_Strategy.Financial_Products.Stock.Stock object at 0x1279a7340>, <Derivative_Trading_Strategy.Financial_Products.Stock.Stock object at 0x1279a7340>, <Derivative_Trading_Strategy.Financial_Products.Stock.Stock object at 0x1279a7b50>, <Derivative_Trading_Strategy.Financial_Products.Stock.Stock object at 0x1279a7b50>, <Derivative_Trading_Strategy.Financial_Products.Stock.Stock object at 0x1279a7340>, <Derivative_Trading_Strategy.Financial_Products.Stock.Stock object at 0x1279a7340>, <Derivative_Trading_Strategy.Financial_Products.Stock.Stock object at 0x1279a7340>, <Derivative_Trading_Strategy.Financial_Products.Stock.Stock object at 0x1279a7b50>, <Derivative_Trading_Strategy.Financial_Products.Stock.Stock object at 0x127d44cd0>, <Derivative_Trading_Strategy.Financial_Products.Stock.Stock object at 0x127d44cd0>, <Derivative_Trading_Strategy.Financial_Products.Stock.Stock object at 0x1279a7340>, <Derivative_Trading_Strategy.Financial_Products.Stock.Stock object at 0x1279a7340>, <Derivative_Trading_Strategy.Financial_Products.Stock.Stock object at 0x1279a7340>, <Derivative_Trading_Strategy.Financial_Products.Stock.Stock object at 0x1279a7b50>, <Derivative_Trading_Strategy.Financial_Products.Stock.Stock object at 0x1279a7b50>, <Derivative_Trading_Strategy.Financial_Products.Stock.Stock object at 0x1279a7340>, <Derivative_Trading_Strategy.Financial_Products.Stock.Stock object at 0x1279a7340>, <Derivative_Trading_Strategy.Financial_Products.Stock.Stock object at 0x1279a7340>, <Derivative_Trading_Strategy.Financial_Products.Stock.Stock object at 0x1279a7b50>, <Derivative_Trading_Strategy.Financial_Products.Stock.Stock object at 0x127d44cd0>, <Derivative_Trading_Strategy.Financial_Products.Stock.Stock object at 0x127d45ff0>, <Derivative_Trading_Strategy.Financial_Products.Stock.Stock object at 0x127d45ff0>, <Derivative_Trading_Strategy.Financial_Products.Stock.Stock object at 0x1279a7340>, <Derivative_Trading_Strategy.Financial_Products.Stock.Stock object at 0x1279a7340>, <Derivative_Trading_Strategy.Financial_Products.Stock.Stock object at 0x1279a7340>, <Derivative_Trading_Strategy.Financial_Products.Stock.Stock object at 0x1279a7b50>, <Derivative_Trading_Strategy.Financial_Products.Stock.Stock object at 0x1279a7b50>, <Derivative_Trading_Strategy.Financial_Products.Stock.Stock object at 0x1279a7340>, <Derivative_Trading_Strategy.Financial_Products.Stock.Stock object at 0x1279a7340>, <Derivative_Trading_Strategy.Financial_Products.Stock.Stock object at 0x1279a7340>, <Derivative_Trading_Strategy.Financial_Products.Stock.Stock object at 0x1279a7b50>, <Derivative_Trading_Strategy.Financial_Products.Stock.Stock object at 0x127d44cd0>, <Derivative_Trading_Strategy.Financial_Products.Stock.Stock object at 0x127d44cd0>, <Derivative_Trading_Strategy.Financial_Products.Stock.Stock object at 0x1279a7340>, <Derivative_Trading_Strategy.Financial_Products.Stock.Stock object at 0x1279a7340>, <Derivative_Trading_Strategy.Financial_Products.Stock.Stock object at 0x1279a7340>, <Derivative_Trading_Strategy.Financial_Products.Stock.Stock object at 0x1279a7b50>, <Derivative_Trading_Strategy.Financial_Products.Stock.Stock object at 0x1279a7b50>, <Derivative_Trading_Strategy.Financial_Products.Stock.Stock object at 0x1279a7340>, <Derivative_Trading_Strategy.Financial_Products.Stock.Stock object at 0x1279a7340>, <Derivative_Trading_Strategy.Financial_Products.Stock.Stock object at 0x1279a7340>, <Derivative_Trading_Strategy.Financial_Products.Stock.Stock object at 0x1279a7b50>, <Derivative_Trading_Strategy.Financial_Products.Stock.Stock object at 0x127d44cd0>, <Derivative_Trading_Strategy.Financial_Products.Stock.Stock object at 0x127d45ff0>, <Derivative_Trading_Strategy.Financial_Products.Stock.Stock object at 0x127d44f10>, <Derivative_Trading_Strategy.Financial_Products.Stock.Stock object at 0x127d44f10>, <Derivative_Trading_Strategy.Financial_Products.Stock.Stock object at 0x1279a7340>, <Derivative_Trading_Strategy.Financial_Products.Stock.Stock object at 0x1279a7340>, <Derivative_Trading_Strategy.Financial_Products.Stock.Stock object at 0x1279a7340>, <Derivative_Trading_Strategy.Financial_Products.Stock.Stock object at 0x1279a7b50>, <Derivative_Trading_Strategy.Financial_Products.Stock.Stock object at 0x1279a7b50>, <Derivative_Trading_Strategy.Financial_Products.Stock.Stock object at 0x1279a7340>, <Derivative_Trading_Strategy.Financial_Products.Stock.Stock object at 0x1279a7340>, <Derivative_Trading_Strategy.Financial_Products.Stock.Stock object at 0x1279a7340>, <Derivative_Trading_Strategy.Financial_Products.Stock.Stock object at 0x1279a7b50>, <Derivative_Trading_Strategy.Financial_Products.Stock.Stock object at 0x127d44cd0>, <Derivative_Trading_Strategy.Financial_Products.Stock.Stock object at 0x127d44cd0>, <Derivative_Trading_Strategy.Financial_Products.Stock.Stock object at 0x1279a7340>, <Derivative_Trading_Strategy.Financial_Products.Stock.Stock object at 0x1279a7340>, <Derivative_Trading_Strategy.Financial_Products.Stock.Stock object at 0x1279a7340>, <Derivative_Trading_Strategy.Financial_Products.Stock.Stock object at 0x1279a7b50>, <Derivative_Trading_Strategy.Financial_Products.Stock.Stock object at 0x1279a7b50>, <Derivative_Trading_Strategy.Financial_Products.Stock.Stock object at 0x1279a7340>, <Derivative_Trading_Strategy.Financial_Products.Stock.Stock object at 0x1279a7340>, <Derivative_Trading_Strategy.Financial_Products.Stock.Stock object at 0x1279a7340>, <Derivative_Trading_Strategy.Financial_Products.Stock.Stock object at 0x1279a7b50>, <Derivative_Trading_Strategy.Financial_Products.Stock.Stock object at 0x127d44cd0>, <Derivative_Trading_Strategy.Financial_Products.Stock.Stock object at 0x127d45ff0>, <Derivative_Trading_Strategy.Financial_Products.Stock.Stock object at 0x127d45ff0>, <Derivative_Trading_Strategy.Financial_Products.Stock.Stock object at 0x1279a7340>, <Derivative_Trading_Strategy.Financial_Products.Stock.Stock object at 0x1279a7340>, <Derivative_Trading_Strategy.Financial_Products.Stock.Stock object at 0x1279a7340>, <Derivative_Trading_Strategy.Financial_Products.Stock.Stock object at 0x1279a7b50>, <Derivative_Trading_Strategy.Financial_Products.Stock.Stock object at 0x1279a7b50>, <Derivative_Trading_Strategy.Financial_Products.Stock.Stock object at 0x1279a7340>, <Derivative_Trading_Strategy.Financial_Products.Stock.Stock object at 0x1279a7340>, <Derivative_Trading_Strategy.Financial_Products.Stock.Stock object at 0x1279a7340>, <Derivative_Trading_Strategy.Financial_Products.Stock.Stock object at 0x1279a7b50>, <Derivative_Trading_Strategy.Financial_Products.Stock.Stock object at 0x127d44cd0>, <Derivative_Trading_Strategy.Financial_Products.Stock.Stock object at 0x127d44cd0>, <Derivative_Trading_Strategy.Financial_Products.Stock.Stock object at 0x1279a7340>, <Derivative_Trading_Strategy.Financial_Products.Stock.Stock object at 0x1279a7340>, <Derivative_Trading_Strategy.Financial_Products.Stock.Stock object at 0x1279a7340>, <Derivative_Trading_Strategy.Financial_Products.Stock.Stock object at 0x1279a7b50>, <Derivative_Trading_Strategy.Financial_Products.Stock.Stock object at 0x1279a7b50>, <Derivative_Trading_Strategy.Financial_Products.Stock.Stock object at 0x1279a7340>, <Derivative_Trading_Strategy.Financial_Products.Stock.Stock object at 0x1279a7340>, <Derivative_Trading_Strategy.Financial_Products.Stock.Stock object at 0x1279a7340>, <Derivative_Trading_Strategy.Financial_Products.Stock.Stock object at 0x1279a7b50>, <Derivative_Trading_Strategy.Financial_Products.Stock.Stock object at 0x127d44cd0>, <Derivative_Trading_Strategy.Financial_Products.Stock.Stock object at 0x127d45ff0>, <Derivative_Trading_Strategy.Financial_Products.Stock.Stock object at 0x127d44f10>, <Derivative_Trading_Strategy.Financial_Products.Stock.Stock object at 0x127d461d0>, <Derivative_Trading_Strategy.Financial_Products.Stock.Stock object at 0x127e46440>, <Derivative_Trading_Strategy.Financial_Products.Stock.Stock object at 0x127e46440>], 'Option': [], 'Cash': [], 'FX': [], 'Crypto': [], 'Index': []}\n",
      "---------------------+---------------------\n",
      "---------------------+---------------------\n",
      "THIRD SUM\n",
      "-100000000000000000\n",
      "0\n",
      "1\n",
      "2\n",
      "3\n",
      "4\n",
      "5\n",
      "6\n",
      "7\n",
      "8\n",
      "9\n",
      "10\n",
      "11\n",
      "12\n",
      "13\n",
      "14\n",
      "15\n",
      "16\n",
      "17\n",
      "18\n",
      "19\n",
      "20\n",
      "21\n",
      "22\n",
      "23\n",
      "24\n",
      "25\n",
      "26\n",
      "27\n",
      "28\n",
      "29\n",
      "30\n",
      "31\n",
      "32\n",
      "33\n",
      "34\n",
      "35\n",
      "36\n",
      "37\n",
      "38\n",
      "39\n",
      "40\n",
      "41\n",
      "42\n",
      "43\n",
      "44\n",
      "45\n",
      "46\n",
      "47\n",
      "48\n",
      "49\n",
      "50\n",
      "51\n",
      "52\n",
      "53\n",
      "54\n",
      "55\n",
      "56\n",
      "57\n",
      "58\n",
      "59\n",
      "60\n",
      "61\n",
      "62\n",
      "63\n",
      "64\n",
      "65\n",
      "66\n",
      "67\n",
      "68\n",
      "69\n",
      "70\n",
      "71\n",
      "72\n",
      "73\n",
      "74\n",
      "75\n",
      "76\n",
      "77\n",
      "78\n",
      "79\n",
      "80\n",
      "81\n",
      "82\n",
      "83\n",
      "84\n",
      "85\n",
      "86\n",
      "87\n",
      "88\n",
      "89\n",
      "90\n",
      "91\n",
      "92\n",
      "93\n",
      "94\n",
      "95\n",
      "96\n",
      "97\n",
      "98\n",
      "99\n",
      "100\n",
      "101\n",
      "102\n",
      "103\n",
      "104\n",
      "105\n",
      "106\n",
      "107\n",
      "108\n",
      "109\n",
      "110\n",
      "111\n",
      "112\n",
      "113\n",
      "114\n",
      "115\n",
      "116\n",
      "117\n",
      "118\n",
      "119\n",
      "120\n",
      "121\n",
      "122\n",
      "123\n",
      "124\n",
      "125\n",
      "126\n",
      "127\n",
      "128\n",
      "129\n",
      "130\n",
      "131\n",
      "132\n",
      "133\n",
      "134\n",
      "135\n",
      "136\n",
      "137\n",
      "138\n",
      "139\n",
      "140\n",
      "141\n",
      "142\n",
      "143\n",
      "144\n",
      "145\n",
      "146\n",
      "147\n",
      "148\n",
      "149\n",
      "150\n",
      "151\n",
      "152\n",
      "153\n",
      "154\n",
      "155\n",
      "156\n",
      "157\n",
      "158\n",
      "159\n",
      "160\n",
      "161\n",
      "162\n",
      "163\n",
      "164\n",
      "165\n",
      "166\n",
      "167\n",
      "168\n",
      "169\n",
      "170\n",
      "171\n",
      "172\n",
      "173\n",
      "174\n",
      "175\n",
      "176\n",
      "177\n",
      "178\n",
      "179\n",
      "180\n",
      "181\n",
      "182\n",
      "183\n",
      "184\n",
      "185\n",
      "186\n",
      "187\n",
      "188\n",
      "189\n",
      "381\n",
      "Generating a Portfolio Class\n",
      "THIRD SUM - AFTER\n",
      "{'Stock': [<Derivative_Trading_Strategy.Financial_Products.Stock.Stock object at 0x1279a7340>, <Derivative_Trading_Strategy.Financial_Products.Stock.Stock object at 0x1279a7340>, <Derivative_Trading_Strategy.Financial_Products.Stock.Stock object at 0x1279a7340>, <Derivative_Trading_Strategy.Financial_Products.Stock.Stock object at 0x1279a7b50>, <Derivative_Trading_Strategy.Financial_Products.Stock.Stock object at 0x1279a7b50>, <Derivative_Trading_Strategy.Financial_Products.Stock.Stock object at 0x1279a7340>, <Derivative_Trading_Strategy.Financial_Products.Stock.Stock object at 0x1279a7340>, <Derivative_Trading_Strategy.Financial_Products.Stock.Stock object at 0x1279a7340>, <Derivative_Trading_Strategy.Financial_Products.Stock.Stock object at 0x1279a7b50>, <Derivative_Trading_Strategy.Financial_Products.Stock.Stock object at 0x127d44cd0>, <Derivative_Trading_Strategy.Financial_Products.Stock.Stock object at 0x127d44cd0>, <Derivative_Trading_Strategy.Financial_Products.Stock.Stock object at 0x1279a7340>, <Derivative_Trading_Strategy.Financial_Products.Stock.Stock object at 0x1279a7340>, <Derivative_Trading_Strategy.Financial_Products.Stock.Stock object at 0x1279a7340>, <Derivative_Trading_Strategy.Financial_Products.Stock.Stock object at 0x1279a7b50>, <Derivative_Trading_Strategy.Financial_Products.Stock.Stock object at 0x1279a7b50>, <Derivative_Trading_Strategy.Financial_Products.Stock.Stock object at 0x1279a7340>, <Derivative_Trading_Strategy.Financial_Products.Stock.Stock object at 0x1279a7340>, <Derivative_Trading_Strategy.Financial_Products.Stock.Stock object at 0x1279a7340>, <Derivative_Trading_Strategy.Financial_Products.Stock.Stock object at 0x1279a7b50>, <Derivative_Trading_Strategy.Financial_Products.Stock.Stock object at 0x127d44cd0>, <Derivative_Trading_Strategy.Financial_Products.Stock.Stock object at 0x127d45ff0>, <Derivative_Trading_Strategy.Financial_Products.Stock.Stock object at 0x127d45ff0>, <Derivative_Trading_Strategy.Financial_Products.Stock.Stock object at 0x1279a7340>, <Derivative_Trading_Strategy.Financial_Products.Stock.Stock object at 0x1279a7340>, <Derivative_Trading_Strategy.Financial_Products.Stock.Stock object at 0x1279a7340>, <Derivative_Trading_Strategy.Financial_Products.Stock.Stock object at 0x1279a7b50>, <Derivative_Trading_Strategy.Financial_Products.Stock.Stock object at 0x1279a7b50>, <Derivative_Trading_Strategy.Financial_Products.Stock.Stock object at 0x1279a7340>, <Derivative_Trading_Strategy.Financial_Products.Stock.Stock object at 0x1279a7340>, <Derivative_Trading_Strategy.Financial_Products.Stock.Stock object at 0x1279a7340>, <Derivative_Trading_Strategy.Financial_Products.Stock.Stock object at 0x1279a7b50>, <Derivative_Trading_Strategy.Financial_Products.Stock.Stock object at 0x127d44cd0>, <Derivative_Trading_Strategy.Financial_Products.Stock.Stock object at 0x127d44cd0>, <Derivative_Trading_Strategy.Financial_Products.Stock.Stock object at 0x1279a7340>, <Derivative_Trading_Strategy.Financial_Products.Stock.Stock object at 0x1279a7340>, <Derivative_Trading_Strategy.Financial_Products.Stock.Stock object at 0x1279a7340>, <Derivative_Trading_Strategy.Financial_Products.Stock.Stock object at 0x1279a7b50>, <Derivative_Trading_Strategy.Financial_Products.Stock.Stock object at 0x1279a7b50>, <Derivative_Trading_Strategy.Financial_Products.Stock.Stock object at 0x1279a7340>, <Derivative_Trading_Strategy.Financial_Products.Stock.Stock object at 0x1279a7340>, <Derivative_Trading_Strategy.Financial_Products.Stock.Stock object at 0x1279a7340>, <Derivative_Trading_Strategy.Financial_Products.Stock.Stock object at 0x1279a7b50>, <Derivative_Trading_Strategy.Financial_Products.Stock.Stock object at 0x127d44cd0>, <Derivative_Trading_Strategy.Financial_Products.Stock.Stock object at 0x127d45ff0>, <Derivative_Trading_Strategy.Financial_Products.Stock.Stock object at 0x127d44f10>, <Derivative_Trading_Strategy.Financial_Products.Stock.Stock object at 0x127d44f10>, <Derivative_Trading_Strategy.Financial_Products.Stock.Stock object at 0x1279a7340>, <Derivative_Trading_Strategy.Financial_Products.Stock.Stock object at 0x1279a7340>, <Derivative_Trading_Strategy.Financial_Products.Stock.Stock object at 0x1279a7340>, <Derivative_Trading_Strategy.Financial_Products.Stock.Stock object at 0x1279a7b50>, <Derivative_Trading_Strategy.Financial_Products.Stock.Stock object at 0x1279a7b50>, <Derivative_Trading_Strategy.Financial_Products.Stock.Stock object at 0x1279a7340>, <Derivative_Trading_Strategy.Financial_Products.Stock.Stock object at 0x1279a7340>, <Derivative_Trading_Strategy.Financial_Products.Stock.Stock object at 0x1279a7340>, <Derivative_Trading_Strategy.Financial_Products.Stock.Stock object at 0x1279a7b50>, <Derivative_Trading_Strategy.Financial_Products.Stock.Stock object at 0x127d44cd0>, <Derivative_Trading_Strategy.Financial_Products.Stock.Stock object at 0x127d44cd0>, <Derivative_Trading_Strategy.Financial_Products.Stock.Stock object at 0x1279a7340>, <Derivative_Trading_Strategy.Financial_Products.Stock.Stock object at 0x1279a7340>, <Derivative_Trading_Strategy.Financial_Products.Stock.Stock object at 0x1279a7340>, <Derivative_Trading_Strategy.Financial_Products.Stock.Stock object at 0x1279a7b50>, <Derivative_Trading_Strategy.Financial_Products.Stock.Stock object at 0x1279a7b50>, <Derivative_Trading_Strategy.Financial_Products.Stock.Stock object at 0x1279a7340>, <Derivative_Trading_Strategy.Financial_Products.Stock.Stock object at 0x1279a7340>, <Derivative_Trading_Strategy.Financial_Products.Stock.Stock object at 0x1279a7340>, <Derivative_Trading_Strategy.Financial_Products.Stock.Stock object at 0x1279a7b50>, <Derivative_Trading_Strategy.Financial_Products.Stock.Stock object at 0x127d44cd0>, <Derivative_Trading_Strategy.Financial_Products.Stock.Stock object at 0x127d45ff0>, <Derivative_Trading_Strategy.Financial_Products.Stock.Stock object at 0x127d45ff0>, <Derivative_Trading_Strategy.Financial_Products.Stock.Stock object at 0x1279a7340>, <Derivative_Trading_Strategy.Financial_Products.Stock.Stock object at 0x1279a7340>, <Derivative_Trading_Strategy.Financial_Products.Stock.Stock object at 0x1279a7340>, <Derivative_Trading_Strategy.Financial_Products.Stock.Stock object at 0x1279a7b50>, <Derivative_Trading_Strategy.Financial_Products.Stock.Stock object at 0x1279a7b50>, <Derivative_Trading_Strategy.Financial_Products.Stock.Stock object at 0x1279a7340>, <Derivative_Trading_Strategy.Financial_Products.Stock.Stock object at 0x1279a7340>, <Derivative_Trading_Strategy.Financial_Products.Stock.Stock object at 0x1279a7340>, <Derivative_Trading_Strategy.Financial_Products.Stock.Stock object at 0x1279a7b50>, <Derivative_Trading_Strategy.Financial_Products.Stock.Stock object at 0x127d44cd0>, <Derivative_Trading_Strategy.Financial_Products.Stock.Stock object at 0x127d44cd0>, <Derivative_Trading_Strategy.Financial_Products.Stock.Stock object at 0x1279a7340>, <Derivative_Trading_Strategy.Financial_Products.Stock.Stock object at 0x1279a7340>, <Derivative_Trading_Strategy.Financial_Products.Stock.Stock object at 0x1279a7340>, <Derivative_Trading_Strategy.Financial_Products.Stock.Stock object at 0x1279a7b50>, <Derivative_Trading_Strategy.Financial_Products.Stock.Stock object at 0x1279a7b50>, <Derivative_Trading_Strategy.Financial_Products.Stock.Stock object at 0x1279a7340>, <Derivative_Trading_Strategy.Financial_Products.Stock.Stock object at 0x1279a7340>, <Derivative_Trading_Strategy.Financial_Products.Stock.Stock object at 0x1279a7340>, <Derivative_Trading_Strategy.Financial_Products.Stock.Stock object at 0x1279a7b50>, <Derivative_Trading_Strategy.Financial_Products.Stock.Stock object at 0x127d44cd0>, <Derivative_Trading_Strategy.Financial_Products.Stock.Stock object at 0x127d45ff0>, <Derivative_Trading_Strategy.Financial_Products.Stock.Stock object at 0x127d44f10>, <Derivative_Trading_Strategy.Financial_Products.Stock.Stock object at 0x127d461d0>, <Derivative_Trading_Strategy.Financial_Products.Stock.Stock object at 0x127d461d0>, <Derivative_Trading_Strategy.Financial_Products.Stock.Stock object at 0x1279a7340>, <Derivative_Trading_Strategy.Financial_Products.Stock.Stock object at 0x1279a7340>, <Derivative_Trading_Strategy.Financial_Products.Stock.Stock object at 0x1279a7340>, <Derivative_Trading_Strategy.Financial_Products.Stock.Stock object at 0x1279a7b50>, <Derivative_Trading_Strategy.Financial_Products.Stock.Stock object at 0x1279a7b50>, <Derivative_Trading_Strategy.Financial_Products.Stock.Stock object at 0x1279a7340>, <Derivative_Trading_Strategy.Financial_Products.Stock.Stock object at 0x1279a7340>, <Derivative_Trading_Strategy.Financial_Products.Stock.Stock object at 0x1279a7340>, <Derivative_Trading_Strategy.Financial_Products.Stock.Stock object at 0x1279a7b50>, <Derivative_Trading_Strategy.Financial_Products.Stock.Stock object at 0x127d44cd0>, <Derivative_Trading_Strategy.Financial_Products.Stock.Stock object at 0x127d44cd0>, <Derivative_Trading_Strategy.Financial_Products.Stock.Stock object at 0x1279a7340>, <Derivative_Trading_Strategy.Financial_Products.Stock.Stock object at 0x1279a7340>, <Derivative_Trading_Strategy.Financial_Products.Stock.Stock object at 0x1279a7340>, <Derivative_Trading_Strategy.Financial_Products.Stock.Stock object at 0x1279a7b50>, <Derivative_Trading_Strategy.Financial_Products.Stock.Stock object at 0x1279a7b50>, <Derivative_Trading_Strategy.Financial_Products.Stock.Stock object at 0x1279a7340>, <Derivative_Trading_Strategy.Financial_Products.Stock.Stock object at 0x1279a7340>, <Derivative_Trading_Strategy.Financial_Products.Stock.Stock object at 0x1279a7340>, <Derivative_Trading_Strategy.Financial_Products.Stock.Stock object at 0x1279a7b50>, <Derivative_Trading_Strategy.Financial_Products.Stock.Stock object at 0x127d44cd0>, <Derivative_Trading_Strategy.Financial_Products.Stock.Stock object at 0x127d45ff0>, <Derivative_Trading_Strategy.Financial_Products.Stock.Stock object at 0x127d45ff0>, <Derivative_Trading_Strategy.Financial_Products.Stock.Stock object at 0x1279a7340>, <Derivative_Trading_Strategy.Financial_Products.Stock.Stock object at 0x1279a7340>, <Derivative_Trading_Strategy.Financial_Products.Stock.Stock object at 0x1279a7340>, <Derivative_Trading_Strategy.Financial_Products.Stock.Stock object at 0x1279a7b50>, <Derivative_Trading_Strategy.Financial_Products.Stock.Stock object at 0x1279a7b50>, <Derivative_Trading_Strategy.Financial_Products.Stock.Stock object at 0x1279a7340>, <Derivative_Trading_Strategy.Financial_Products.Stock.Stock object at 0x1279a7340>, <Derivative_Trading_Strategy.Financial_Products.Stock.Stock object at 0x1279a7340>, <Derivative_Trading_Strategy.Financial_Products.Stock.Stock object at 0x1279a7b50>, <Derivative_Trading_Strategy.Financial_Products.Stock.Stock object at 0x127d44cd0>, <Derivative_Trading_Strategy.Financial_Products.Stock.Stock object at 0x127d44cd0>, <Derivative_Trading_Strategy.Financial_Products.Stock.Stock object at 0x1279a7340>, <Derivative_Trading_Strategy.Financial_Products.Stock.Stock object at 0x1279a7340>, <Derivative_Trading_Strategy.Financial_Products.Stock.Stock object at 0x1279a7340>, <Derivative_Trading_Strategy.Financial_Products.Stock.Stock object at 0x1279a7b50>, <Derivative_Trading_Strategy.Financial_Products.Stock.Stock object at 0x1279a7b50>, <Derivative_Trading_Strategy.Financial_Products.Stock.Stock object at 0x1279a7340>, <Derivative_Trading_Strategy.Financial_Products.Stock.Stock object at 0x1279a7340>, <Derivative_Trading_Strategy.Financial_Products.Stock.Stock object at 0x1279a7340>, <Derivative_Trading_Strategy.Financial_Products.Stock.Stock object at 0x1279a7b50>, <Derivative_Trading_Strategy.Financial_Products.Stock.Stock object at 0x127d44cd0>, <Derivative_Trading_Strategy.Financial_Products.Stock.Stock object at 0x127d45ff0>, <Derivative_Trading_Strategy.Financial_Products.Stock.Stock object at 0x127d44f10>, <Derivative_Trading_Strategy.Financial_Products.Stock.Stock object at 0x127d44f10>, <Derivative_Trading_Strategy.Financial_Products.Stock.Stock object at 0x1279a7340>, <Derivative_Trading_Strategy.Financial_Products.Stock.Stock object at 0x1279a7340>, <Derivative_Trading_Strategy.Financial_Products.Stock.Stock object at 0x1279a7340>, <Derivative_Trading_Strategy.Financial_Products.Stock.Stock object at 0x1279a7b50>, <Derivative_Trading_Strategy.Financial_Products.Stock.Stock object at 0x1279a7b50>, <Derivative_Trading_Strategy.Financial_Products.Stock.Stock object at 0x1279a7340>, <Derivative_Trading_Strategy.Financial_Products.Stock.Stock object at 0x1279a7340>, <Derivative_Trading_Strategy.Financial_Products.Stock.Stock object at 0x1279a7340>, <Derivative_Trading_Strategy.Financial_Products.Stock.Stock object at 0x1279a7b50>, <Derivative_Trading_Strategy.Financial_Products.Stock.Stock object at 0x127d44cd0>, <Derivative_Trading_Strategy.Financial_Products.Stock.Stock object at 0x127d44cd0>, <Derivative_Trading_Strategy.Financial_Products.Stock.Stock object at 0x1279a7340>, <Derivative_Trading_Strategy.Financial_Products.Stock.Stock object at 0x1279a7340>, <Derivative_Trading_Strategy.Financial_Products.Stock.Stock object at 0x1279a7340>, <Derivative_Trading_Strategy.Financial_Products.Stock.Stock object at 0x1279a7b50>, <Derivative_Trading_Strategy.Financial_Products.Stock.Stock object at 0x1279a7b50>, <Derivative_Trading_Strategy.Financial_Products.Stock.Stock object at 0x1279a7340>, <Derivative_Trading_Strategy.Financial_Products.Stock.Stock object at 0x1279a7340>, <Derivative_Trading_Strategy.Financial_Products.Stock.Stock object at 0x1279a7340>, <Derivative_Trading_Strategy.Financial_Products.Stock.Stock object at 0x1279a7b50>, <Derivative_Trading_Strategy.Financial_Products.Stock.Stock object at 0x127d44cd0>, <Derivative_Trading_Strategy.Financial_Products.Stock.Stock object at 0x127d45ff0>, <Derivative_Trading_Strategy.Financial_Products.Stock.Stock object at 0x127d45ff0>, <Derivative_Trading_Strategy.Financial_Products.Stock.Stock object at 0x1279a7340>, <Derivative_Trading_Strategy.Financial_Products.Stock.Stock object at 0x1279a7340>, <Derivative_Trading_Strategy.Financial_Products.Stock.Stock object at 0x1279a7340>, <Derivative_Trading_Strategy.Financial_Products.Stock.Stock object at 0x1279a7b50>, <Derivative_Trading_Strategy.Financial_Products.Stock.Stock object at 0x1279a7b50>, <Derivative_Trading_Strategy.Financial_Products.Stock.Stock object at 0x1279a7340>, <Derivative_Trading_Strategy.Financial_Products.Stock.Stock object at 0x1279a7340>, <Derivative_Trading_Strategy.Financial_Products.Stock.Stock object at 0x1279a7340>, <Derivative_Trading_Strategy.Financial_Products.Stock.Stock object at 0x1279a7b50>, <Derivative_Trading_Strategy.Financial_Products.Stock.Stock object at 0x127d44cd0>, <Derivative_Trading_Strategy.Financial_Products.Stock.Stock object at 0x127d44cd0>, <Derivative_Trading_Strategy.Financial_Products.Stock.Stock object at 0x1279a7340>, <Derivative_Trading_Strategy.Financial_Products.Stock.Stock object at 0x1279a7340>, <Derivative_Trading_Strategy.Financial_Products.Stock.Stock object at 0x1279a7340>, <Derivative_Trading_Strategy.Financial_Products.Stock.Stock object at 0x1279a7b50>, <Derivative_Trading_Strategy.Financial_Products.Stock.Stock object at 0x1279a7b50>, <Derivative_Trading_Strategy.Financial_Products.Stock.Stock object at 0x1279a7340>, <Derivative_Trading_Strategy.Financial_Products.Stock.Stock object at 0x1279a7340>, <Derivative_Trading_Strategy.Financial_Products.Stock.Stock object at 0x1279a7340>, <Derivative_Trading_Strategy.Financial_Products.Stock.Stock object at 0x1279a7b50>, <Derivative_Trading_Strategy.Financial_Products.Stock.Stock object at 0x127d44cd0>, <Derivative_Trading_Strategy.Financial_Products.Stock.Stock object at 0x127d45ff0>, <Derivative_Trading_Strategy.Financial_Products.Stock.Stock object at 0x127d44f10>, <Derivative_Trading_Strategy.Financial_Products.Stock.Stock object at 0x127d461d0>, <Derivative_Trading_Strategy.Financial_Products.Stock.Stock object at 0x127e46440>, <Derivative_Trading_Strategy.Financial_Products.Stock.Stock object at 0x127e46440>, <Derivative_Trading_Strategy.Financial_Products.Stock.Stock object at 0x1279a7340>, <Derivative_Trading_Strategy.Financial_Products.Stock.Stock object at 0x1279a7340>, <Derivative_Trading_Strategy.Financial_Products.Stock.Stock object at 0x1279a7340>, <Derivative_Trading_Strategy.Financial_Products.Stock.Stock object at 0x1279a7b50>, <Derivative_Trading_Strategy.Financial_Products.Stock.Stock object at 0x1279a7b50>, <Derivative_Trading_Strategy.Financial_Products.Stock.Stock object at 0x1279a7340>, <Derivative_Trading_Strategy.Financial_Products.Stock.Stock object at 0x1279a7340>, <Derivative_Trading_Strategy.Financial_Products.Stock.Stock object at 0x1279a7340>, <Derivative_Trading_Strategy.Financial_Products.Stock.Stock object at 0x1279a7b50>, <Derivative_Trading_Strategy.Financial_Products.Stock.Stock object at 0x127d44cd0>, <Derivative_Trading_Strategy.Financial_Products.Stock.Stock object at 0x127d44cd0>, <Derivative_Trading_Strategy.Financial_Products.Stock.Stock object at 0x1279a7340>, <Derivative_Trading_Strategy.Financial_Products.Stock.Stock object at 0x1279a7340>, <Derivative_Trading_Strategy.Financial_Products.Stock.Stock object at 0x1279a7340>, <Derivative_Trading_Strategy.Financial_Products.Stock.Stock object at 0x1279a7b50>, <Derivative_Trading_Strategy.Financial_Products.Stock.Stock object at 0x1279a7b50>, <Derivative_Trading_Strategy.Financial_Products.Stock.Stock object at 0x1279a7340>, <Derivative_Trading_Strategy.Financial_Products.Stock.Stock object at 0x1279a7340>, <Derivative_Trading_Strategy.Financial_Products.Stock.Stock object at 0x1279a7340>, <Derivative_Trading_Strategy.Financial_Products.Stock.Stock object at 0x1279a7b50>, <Derivative_Trading_Strategy.Financial_Products.Stock.Stock object at 0x127d44cd0>, <Derivative_Trading_Strategy.Financial_Products.Stock.Stock object at 0x127d45ff0>, <Derivative_Trading_Strategy.Financial_Products.Stock.Stock object at 0x127d45ff0>, <Derivative_Trading_Strategy.Financial_Products.Stock.Stock object at 0x1279a7340>, <Derivative_Trading_Strategy.Financial_Products.Stock.Stock object at 0x1279a7340>, <Derivative_Trading_Strategy.Financial_Products.Stock.Stock object at 0x1279a7340>, <Derivative_Trading_Strategy.Financial_Products.Stock.Stock object at 0x1279a7b50>, <Derivative_Trading_Strategy.Financial_Products.Stock.Stock object at 0x1279a7b50>, <Derivative_Trading_Strategy.Financial_Products.Stock.Stock object at 0x1279a7340>, <Derivative_Trading_Strategy.Financial_Products.Stock.Stock object at 0x1279a7340>, <Derivative_Trading_Strategy.Financial_Products.Stock.Stock object at 0x1279a7340>, <Derivative_Trading_Strategy.Financial_Products.Stock.Stock object at 0x1279a7b50>, <Derivative_Trading_Strategy.Financial_Products.Stock.Stock object at 0x127d44cd0>, <Derivative_Trading_Strategy.Financial_Products.Stock.Stock object at 0x127d44cd0>, <Derivative_Trading_Strategy.Financial_Products.Stock.Stock object at 0x1279a7340>, <Derivative_Trading_Strategy.Financial_Products.Stock.Stock object at 0x1279a7340>, <Derivative_Trading_Strategy.Financial_Products.Stock.Stock object at 0x1279a7340>, <Derivative_Trading_Strategy.Financial_Products.Stock.Stock object at 0x1279a7b50>, <Derivative_Trading_Strategy.Financial_Products.Stock.Stock object at 0x1279a7b50>, <Derivative_Trading_Strategy.Financial_Products.Stock.Stock object at 0x1279a7340>, <Derivative_Trading_Strategy.Financial_Products.Stock.Stock object at 0x1279a7340>, <Derivative_Trading_Strategy.Financial_Products.Stock.Stock object at 0x1279a7340>, <Derivative_Trading_Strategy.Financial_Products.Stock.Stock object at 0x1279a7b50>, <Derivative_Trading_Strategy.Financial_Products.Stock.Stock object at 0x127d44cd0>, <Derivative_Trading_Strategy.Financial_Products.Stock.Stock object at 0x127d45ff0>, <Derivative_Trading_Strategy.Financial_Products.Stock.Stock object at 0x127d44f10>, <Derivative_Trading_Strategy.Financial_Products.Stock.Stock object at 0x127d44f10>, <Derivative_Trading_Strategy.Financial_Products.Stock.Stock object at 0x1279a7340>, <Derivative_Trading_Strategy.Financial_Products.Stock.Stock object at 0x1279a7340>, <Derivative_Trading_Strategy.Financial_Products.Stock.Stock object at 0x1279a7340>, <Derivative_Trading_Strategy.Financial_Products.Stock.Stock object at 0x1279a7b50>, <Derivative_Trading_Strategy.Financial_Products.Stock.Stock object at 0x1279a7b50>, <Derivative_Trading_Strategy.Financial_Products.Stock.Stock object at 0x1279a7340>, <Derivative_Trading_Strategy.Financial_Products.Stock.Stock object at 0x1279a7340>, <Derivative_Trading_Strategy.Financial_Products.Stock.Stock object at 0x1279a7340>, <Derivative_Trading_Strategy.Financial_Products.Stock.Stock object at 0x1279a7b50>, <Derivative_Trading_Strategy.Financial_Products.Stock.Stock object at 0x127d44cd0>, <Derivative_Trading_Strategy.Financial_Products.Stock.Stock object at 0x127d44cd0>, <Derivative_Trading_Strategy.Financial_Products.Stock.Stock object at 0x1279a7340>, <Derivative_Trading_Strategy.Financial_Products.Stock.Stock object at 0x1279a7340>, <Derivative_Trading_Strategy.Financial_Products.Stock.Stock object at 0x1279a7340>, <Derivative_Trading_Strategy.Financial_Products.Stock.Stock object at 0x1279a7b50>, <Derivative_Trading_Strategy.Financial_Products.Stock.Stock object at 0x1279a7b50>, <Derivative_Trading_Strategy.Financial_Products.Stock.Stock object at 0x1279a7340>, <Derivative_Trading_Strategy.Financial_Products.Stock.Stock object at 0x1279a7340>, <Derivative_Trading_Strategy.Financial_Products.Stock.Stock object at 0x1279a7340>, <Derivative_Trading_Strategy.Financial_Products.Stock.Stock object at 0x1279a7b50>, <Derivative_Trading_Strategy.Financial_Products.Stock.Stock object at 0x127d44cd0>, <Derivative_Trading_Strategy.Financial_Products.Stock.Stock object at 0x127d45ff0>, <Derivative_Trading_Strategy.Financial_Products.Stock.Stock object at 0x127d45ff0>, <Derivative_Trading_Strategy.Financial_Products.Stock.Stock object at 0x1279a7340>, <Derivative_Trading_Strategy.Financial_Products.Stock.Stock object at 0x1279a7340>, <Derivative_Trading_Strategy.Financial_Products.Stock.Stock object at 0x1279a7340>, <Derivative_Trading_Strategy.Financial_Products.Stock.Stock object at 0x1279a7b50>, <Derivative_Trading_Strategy.Financial_Products.Stock.Stock object at 0x1279a7b50>, <Derivative_Trading_Strategy.Financial_Products.Stock.Stock object at 0x1279a7340>, <Derivative_Trading_Strategy.Financial_Products.Stock.Stock object at 0x1279a7340>, <Derivative_Trading_Strategy.Financial_Products.Stock.Stock object at 0x1279a7340>, <Derivative_Trading_Strategy.Financial_Products.Stock.Stock object at 0x1279a7b50>, <Derivative_Trading_Strategy.Financial_Products.Stock.Stock object at 0x127d44cd0>, <Derivative_Trading_Strategy.Financial_Products.Stock.Stock object at 0x127d44cd0>, <Derivative_Trading_Strategy.Financial_Products.Stock.Stock object at 0x1279a7340>, <Derivative_Trading_Strategy.Financial_Products.Stock.Stock object at 0x1279a7340>, <Derivative_Trading_Strategy.Financial_Products.Stock.Stock object at 0x1279a7340>, <Derivative_Trading_Strategy.Financial_Products.Stock.Stock object at 0x1279a7b50>, <Derivative_Trading_Strategy.Financial_Products.Stock.Stock object at 0x1279a7b50>, <Derivative_Trading_Strategy.Financial_Products.Stock.Stock object at 0x1279a7340>, <Derivative_Trading_Strategy.Financial_Products.Stock.Stock object at 0x1279a7340>, <Derivative_Trading_Strategy.Financial_Products.Stock.Stock object at 0x1279a7340>, <Derivative_Trading_Strategy.Financial_Products.Stock.Stock object at 0x1279a7b50>, <Derivative_Trading_Strategy.Financial_Products.Stock.Stock object at 0x127d44cd0>, <Derivative_Trading_Strategy.Financial_Products.Stock.Stock object at 0x127d45ff0>, <Derivative_Trading_Strategy.Financial_Products.Stock.Stock object at 0x127d44f10>, <Derivative_Trading_Strategy.Financial_Products.Stock.Stock object at 0x127d461d0>, <Derivative_Trading_Strategy.Financial_Products.Stock.Stock object at 0x127d461d0>, <Derivative_Trading_Strategy.Financial_Products.Stock.Stock object at 0x1279a7340>, <Derivative_Trading_Strategy.Financial_Products.Stock.Stock object at 0x1279a7340>, <Derivative_Trading_Strategy.Financial_Products.Stock.Stock object at 0x1279a7340>, <Derivative_Trading_Strategy.Financial_Products.Stock.Stock object at 0x1279a7b50>, <Derivative_Trading_Strategy.Financial_Products.Stock.Stock object at 0x1279a7b50>, <Derivative_Trading_Strategy.Financial_Products.Stock.Stock object at 0x1279a7340>, <Derivative_Trading_Strategy.Financial_Products.Stock.Stock object at 0x1279a7340>, <Derivative_Trading_Strategy.Financial_Products.Stock.Stock object at 0x1279a7340>, <Derivative_Trading_Strategy.Financial_Products.Stock.Stock object at 0x1279a7b50>, <Derivative_Trading_Strategy.Financial_Products.Stock.Stock object at 0x127d44cd0>, <Derivative_Trading_Strategy.Financial_Products.Stock.Stock object at 0x127d44cd0>, <Derivative_Trading_Strategy.Financial_Products.Stock.Stock object at 0x1279a7340>, <Derivative_Trading_Strategy.Financial_Products.Stock.Stock object at 0x1279a7340>, <Derivative_Trading_Strategy.Financial_Products.Stock.Stock object at 0x1279a7340>, <Derivative_Trading_Strategy.Financial_Products.Stock.Stock object at 0x1279a7b50>, <Derivative_Trading_Strategy.Financial_Products.Stock.Stock object at 0x1279a7b50>, <Derivative_Trading_Strategy.Financial_Products.Stock.Stock object at 0x1279a7340>, <Derivative_Trading_Strategy.Financial_Products.Stock.Stock object at 0x1279a7340>, <Derivative_Trading_Strategy.Financial_Products.Stock.Stock object at 0x1279a7340>, <Derivative_Trading_Strategy.Financial_Products.Stock.Stock object at 0x1279a7b50>, <Derivative_Trading_Strategy.Financial_Products.Stock.Stock object at 0x127d44cd0>, <Derivative_Trading_Strategy.Financial_Products.Stock.Stock object at 0x127d45ff0>, <Derivative_Trading_Strategy.Financial_Products.Stock.Stock object at 0x127d45ff0>, <Derivative_Trading_Strategy.Financial_Products.Stock.Stock object at 0x1279a7340>, <Derivative_Trading_Strategy.Financial_Products.Stock.Stock object at 0x1279a7340>, <Derivative_Trading_Strategy.Financial_Products.Stock.Stock object at 0x1279a7340>, <Derivative_Trading_Strategy.Financial_Products.Stock.Stock object at 0x1279a7b50>, <Derivative_Trading_Strategy.Financial_Products.Stock.Stock object at 0x1279a7b50>, <Derivative_Trading_Strategy.Financial_Products.Stock.Stock object at 0x1279a7340>, <Derivative_Trading_Strategy.Financial_Products.Stock.Stock object at 0x1279a7340>, <Derivative_Trading_Strategy.Financial_Products.Stock.Stock object at 0x1279a7340>, <Derivative_Trading_Strategy.Financial_Products.Stock.Stock object at 0x1279a7b50>, <Derivative_Trading_Strategy.Financial_Products.Stock.Stock object at 0x127d44cd0>, <Derivative_Trading_Strategy.Financial_Products.Stock.Stock object at 0x127d44cd0>, <Derivative_Trading_Strategy.Financial_Products.Stock.Stock object at 0x1279a7340>, <Derivative_Trading_Strategy.Financial_Products.Stock.Stock object at 0x1279a7340>, <Derivative_Trading_Strategy.Financial_Products.Stock.Stock object at 0x1279a7340>, <Derivative_Trading_Strategy.Financial_Products.Stock.Stock object at 0x1279a7b50>, <Derivative_Trading_Strategy.Financial_Products.Stock.Stock object at 0x1279a7b50>, <Derivative_Trading_Strategy.Financial_Products.Stock.Stock object at 0x1279a7340>, <Derivative_Trading_Strategy.Financial_Products.Stock.Stock object at 0x1279a7340>, <Derivative_Trading_Strategy.Financial_Products.Stock.Stock object at 0x1279a7340>, <Derivative_Trading_Strategy.Financial_Products.Stock.Stock object at 0x1279a7b50>, <Derivative_Trading_Strategy.Financial_Products.Stock.Stock object at 0x127d44cd0>, <Derivative_Trading_Strategy.Financial_Products.Stock.Stock object at 0x127d45ff0>, <Derivative_Trading_Strategy.Financial_Products.Stock.Stock object at 0x127d44f10>, <Derivative_Trading_Strategy.Financial_Products.Stock.Stock object at 0x127d44f10>, <Derivative_Trading_Strategy.Financial_Products.Stock.Stock object at 0x1279a7340>, <Derivative_Trading_Strategy.Financial_Products.Stock.Stock object at 0x1279a7340>, <Derivative_Trading_Strategy.Financial_Products.Stock.Stock object at 0x1279a7340>, <Derivative_Trading_Strategy.Financial_Products.Stock.Stock object at 0x1279a7b50>, <Derivative_Trading_Strategy.Financial_Products.Stock.Stock object at 0x1279a7b50>, <Derivative_Trading_Strategy.Financial_Products.Stock.Stock object at 0x1279a7340>, <Derivative_Trading_Strategy.Financial_Products.Stock.Stock object at 0x1279a7340>, <Derivative_Trading_Strategy.Financial_Products.Stock.Stock object at 0x1279a7340>, <Derivative_Trading_Strategy.Financial_Products.Stock.Stock object at 0x1279a7b50>, <Derivative_Trading_Strategy.Financial_Products.Stock.Stock object at 0x127d44cd0>, <Derivative_Trading_Strategy.Financial_Products.Stock.Stock object at 0x127d44cd0>, <Derivative_Trading_Strategy.Financial_Products.Stock.Stock object at 0x1279a7340>, <Derivative_Trading_Strategy.Financial_Products.Stock.Stock object at 0x1279a7340>, <Derivative_Trading_Strategy.Financial_Products.Stock.Stock object at 0x1279a7340>, <Derivative_Trading_Strategy.Financial_Products.Stock.Stock object at 0x1279a7b50>, <Derivative_Trading_Strategy.Financial_Products.Stock.Stock object at 0x1279a7b50>, <Derivative_Trading_Strategy.Financial_Products.Stock.Stock object at 0x1279a7340>, <Derivative_Trading_Strategy.Financial_Products.Stock.Stock object at 0x1279a7340>, <Derivative_Trading_Strategy.Financial_Products.Stock.Stock object at 0x1279a7340>, <Derivative_Trading_Strategy.Financial_Products.Stock.Stock object at 0x1279a7b50>, <Derivative_Trading_Strategy.Financial_Products.Stock.Stock object at 0x127d44cd0>, <Derivative_Trading_Strategy.Financial_Products.Stock.Stock object at 0x127d45ff0>, <Derivative_Trading_Strategy.Financial_Products.Stock.Stock object at 0x127d45ff0>, <Derivative_Trading_Strategy.Financial_Products.Stock.Stock object at 0x1279a7340>, <Derivative_Trading_Strategy.Financial_Products.Stock.Stock object at 0x1279a7340>, <Derivative_Trading_Strategy.Financial_Products.Stock.Stock object at 0x1279a7340>, <Derivative_Trading_Strategy.Financial_Products.Stock.Stock object at 0x1279a7b50>, <Derivative_Trading_Strategy.Financial_Products.Stock.Stock object at 0x1279a7b50>, <Derivative_Trading_Strategy.Financial_Products.Stock.Stock object at 0x1279a7340>, <Derivative_Trading_Strategy.Financial_Products.Stock.Stock object at 0x1279a7340>, <Derivative_Trading_Strategy.Financial_Products.Stock.Stock object at 0x1279a7340>, <Derivative_Trading_Strategy.Financial_Products.Stock.Stock object at 0x1279a7b50>, <Derivative_Trading_Strategy.Financial_Products.Stock.Stock object at 0x127d44cd0>, <Derivative_Trading_Strategy.Financial_Products.Stock.Stock object at 0x127d44cd0>, <Derivative_Trading_Strategy.Financial_Products.Stock.Stock object at 0x1279a7340>, <Derivative_Trading_Strategy.Financial_Products.Stock.Stock object at 0x1279a7340>, <Derivative_Trading_Strategy.Financial_Products.Stock.Stock object at 0x1279a7340>, <Derivative_Trading_Strategy.Financial_Products.Stock.Stock object at 0x1279a7b50>, <Derivative_Trading_Strategy.Financial_Products.Stock.Stock object at 0x1279a7b50>, <Derivative_Trading_Strategy.Financial_Products.Stock.Stock object at 0x1279a7340>, <Derivative_Trading_Strategy.Financial_Products.Stock.Stock object at 0x1279a7340>, <Derivative_Trading_Strategy.Financial_Products.Stock.Stock object at 0x1279a7340>, <Derivative_Trading_Strategy.Financial_Products.Stock.Stock object at 0x1279a7b50>, <Derivative_Trading_Strategy.Financial_Products.Stock.Stock object at 0x127d44cd0>, <Derivative_Trading_Strategy.Financial_Products.Stock.Stock object at 0x127d45ff0>, <Derivative_Trading_Strategy.Financial_Products.Stock.Stock object at 0x127d44f10>, <Derivative_Trading_Strategy.Financial_Products.Stock.Stock object at 0x127d461d0>, <Derivative_Trading_Strategy.Financial_Products.Stock.Stock object at 0x127e46440>], 'Option': [], 'Cash': [], 'FX': [], 'Crypto': [], 'Index': []}\n",
      "---------------------+---------------------\n"
     ]
    }
   ],
   "source": [
    "print('---------------------+---------------------')\n",
    "print('Iniitalize p_2')\n",
    "p_2 = Portfolio()\n",
    "print('---------------------+---------------------')\n",
    "\n",
    "print('---------------------+---------------------')\n",
    "print('FIRST SUM - BEFORE')\n",
    "p_2 = p_2 + s_3\n",
    "print('FIRST SUM - AFTER')\n",
    "print(p_2.portfolio_of_assets)\n",
    "print('---------------------+---------------------')\n",
    "\n",
    "print('---------------------+---------------------')\n",
    "print('SECOND SUM')\n",
    "p_3 = p_2 + s_3\n",
    "print('SECOND SUM - AFTER')\n",
    "print(p_3.portfolio_of_assets)\n",
    "print('---------------------+---------------------')\n",
    "\n",
    "print('---------------------+---------------------')\n",
    "print('THIRD SUM')\n",
    "p_4 = p_3 + p_2\n",
    "print('THIRD SUM - AFTER')\n",
    "print(p_3.portfolio_of_assets)\n",
    "print('---------------------+---------------------')\n",
    "\n",
    "\n",
    "del p_2\n",
    "del p_3\n",
    "del p_4"
   ],
   "metadata": {
    "collapsed": false
   }
  },
  {
   "cell_type": "code",
   "execution_count": 61,
   "outputs": [
    {
     "ename": "NameError",
     "evalue": "name 'p_2' is not defined",
     "output_type": "error",
     "traceback": [
      "\u001B[0;31m---------------------------------------------------------------------------\u001B[0m",
      "\u001B[0;31mNameError\u001B[0m                                 Traceback (most recent call last)",
      "Cell \u001B[0;32mIn[61], line 1\u001B[0m\n\u001B[0;32m----> 1\u001B[0m \u001B[43mp_2\u001B[49m\u001B[38;5;241m.\u001B[39mportfolio_of_assets[\u001B[38;5;124m'\u001B[39m\u001B[38;5;124mStock\u001B[39m\u001B[38;5;124m'\u001B[39m] \u001B[38;5;241m=\u001B[39m []\n\u001B[1;32m      3\u001B[0m p_2\u001B[38;5;241m.\u001B[39mportfolio_of_assets\n",
      "\u001B[0;31mNameError\u001B[0m: name 'p_2' is not defined"
     ]
    }
   ],
   "source": [
    "p_2.portfolio_of_assets['Stock'] = []\n",
    "\n",
    "p_2.portfolio_of_assets"
   ],
   "metadata": {
    "collapsed": false
   }
  },
  {
   "cell_type": "code",
   "execution_count": null,
   "outputs": [],
   "source": [
    "derivative_1.plot_time_series()"
   ],
   "metadata": {
    "collapsed": false
   }
  },
  {
   "cell_type": "code",
   "execution_count": null,
   "outputs": [],
   "source": [
    "print(derivative_1.price_vector)"
   ],
   "metadata": {
    "collapsed": false
   }
  },
  {
   "cell_type": "code",
   "execution_count": null,
   "outputs": [],
   "source": [
    "delattr(p_2.stock_position, 'stock_position')\n"
   ],
   "metadata": {
    "collapsed": false
   }
  },
  {
   "cell_type": "code",
   "execution_count": null,
   "outputs": [],
   "source": [
    "p_2.portfolio_of_assets"
   ],
   "metadata": {
    "collapsed": false
   }
  },
  {
   "cell_type": "code",
   "execution_count": 62,
   "outputs": [
    {
     "ename": "IndexError",
     "evalue": "index 4 is out of bounds for axis 0 with size 4",
     "output_type": "error",
     "traceback": [
      "\u001B[0;31m---------------------------------------------------------------------------\u001B[0m",
      "\u001B[0;31mIndexError\u001B[0m                                Traceback (most recent call last)",
      "Cell \u001B[0;32mIn[62], line 1\u001B[0m\n\u001B[0;32m----> 1\u001B[0m \u001B[43ms_3\u001B[49m\u001B[38;5;241;43m.\u001B[39;49m\u001B[43mget_option_by_index\u001B[49m\u001B[43m(\u001B[49m\u001B[38;5;124;43m'\u001B[39;49m\u001B[38;5;124;43mput\u001B[39;49m\u001B[38;5;124;43m'\u001B[39;49m\u001B[43m,\u001B[49m\u001B[38;5;241;43m4\u001B[39;49m\u001B[43m)\u001B[49m\n",
      "File \u001B[0;32m~/Desktop/Polygon_API_Trading_Strategy/Derivative_Trading_Strategy/Financial_Products/Stock.py:24\u001B[0m, in \u001B[0;36mStock.get_option_by_index\u001B[0;34m(self, option_type, index_of_date, option_strike)\u001B[0m\n\u001B[1;32m     22\u001B[0m     option_column \u001B[38;5;241m=\u001B[39m \u001B[38;5;28mself\u001B[39m\u001B[38;5;241m.\u001B[39mcall_options[farthest_date_column]\u001B[38;5;241m.\u001B[39msort_index()\n\u001B[1;32m     23\u001B[0m \u001B[38;5;28;01melif\u001B[39;00m option_type\u001B[38;5;241m.\u001B[39mlower() \u001B[38;5;241m==\u001B[39m \u001B[38;5;124m\"\u001B[39m\u001B[38;5;124mput\u001B[39m\u001B[38;5;124m\"\u001B[39m:\n\u001B[0;32m---> 24\u001B[0m     farthest_date_column \u001B[38;5;241m=\u001B[39m \u001B[38;5;28;43mself\u001B[39;49m\u001B[38;5;241;43m.\u001B[39;49m\u001B[43mcall_options\u001B[49m\u001B[38;5;241;43m.\u001B[39;49m\u001B[43mcolumns\u001B[49m\u001B[43m[\u001B[49m\u001B[43mindex_of_date\u001B[49m\u001B[43m]\u001B[49m\n\u001B[1;32m     25\u001B[0m     option_column \u001B[38;5;241m=\u001B[39m \u001B[38;5;28mself\u001B[39m\u001B[38;5;241m.\u001B[39mput_options[farthest_date_column]\u001B[38;5;241m.\u001B[39msort_index()\n\u001B[1;32m     27\u001B[0m \u001B[38;5;28;01mif\u001B[39;00m option_strike \u001B[38;5;241m==\u001B[39m \u001B[38;5;28;01mNone\u001B[39;00m:\n",
      "File \u001B[0;32m~/Desktop/Polygon_API_Trading_Strategy/lib/python3.10/site-packages/pandas/core/indexes/base.py:5366\u001B[0m, in \u001B[0;36mIndex.__getitem__\u001B[0;34m(self, key)\u001B[0m\n\u001B[1;32m   5363\u001B[0m \u001B[38;5;28;01mif\u001B[39;00m is_integer(key) \u001B[38;5;129;01mor\u001B[39;00m is_float(key):\n\u001B[1;32m   5364\u001B[0m     \u001B[38;5;66;03m# GH#44051 exclude bool, which would return a 2d ndarray\u001B[39;00m\n\u001B[1;32m   5365\u001B[0m     key \u001B[38;5;241m=\u001B[39m com\u001B[38;5;241m.\u001B[39mcast_scalar_indexer(key)\n\u001B[0;32m-> 5366\u001B[0m     \u001B[38;5;28;01mreturn\u001B[39;00m \u001B[43mgetitem\u001B[49m\u001B[43m(\u001B[49m\u001B[43mkey\u001B[49m\u001B[43m)\u001B[49m\n\u001B[1;32m   5368\u001B[0m \u001B[38;5;28;01mif\u001B[39;00m \u001B[38;5;28misinstance\u001B[39m(key, \u001B[38;5;28mslice\u001B[39m):\n\u001B[1;32m   5369\u001B[0m     \u001B[38;5;66;03m# This case is separated from the conditional above to avoid\u001B[39;00m\n\u001B[1;32m   5370\u001B[0m     \u001B[38;5;66;03m# pessimization com.is_bool_indexer and ndim checks.\u001B[39;00m\n\u001B[1;32m   5371\u001B[0m     \u001B[38;5;28;01mreturn\u001B[39;00m \u001B[38;5;28mself\u001B[39m\u001B[38;5;241m.\u001B[39m_getitem_slice(key)\n",
      "\u001B[0;31mIndexError\u001B[0m: index 4 is out of bounds for axis 0 with size 4"
     ]
    }
   ],
   "source": [
    "s_3.get_option_by_index('put',4)"
   ],
   "metadata": {
    "collapsed": false
   }
  },
  {
   "cell_type": "code",
   "execution_count": 63,
   "outputs": [
    {
     "data": {
      "text/plain": "<Derivative_Trading_Strategy.Financial_Products.Stock.Stock at 0x127e46440>"
     },
     "execution_count": 63,
     "metadata": {},
     "output_type": "execute_result"
    }
   ],
   "source": [
    "s_3"
   ],
   "metadata": {
    "collapsed": false
   }
  },
  {
   "cell_type": "code",
   "execution_count": null,
   "outputs": [],
   "source": [],
   "metadata": {
    "collapsed": false,
    "pycharm": {
     "is_executing": true
    }
   }
  },
  {
   "cell_type": "code",
   "execution_count": null,
   "outputs": [],
   "source": [],
   "metadata": {
    "collapsed": false
   }
  }
 ],
 "metadata": {
  "kernelspec": {
   "display_name": "Python 3",
   "language": "python",
   "name": "python3"
  },
  "language_info": {
   "codemirror_mode": {
    "name": "ipython",
    "version": 2
   },
   "file_extension": ".py",
   "mimetype": "text/x-python",
   "name": "python",
   "nbconvert_exporter": "python",
   "pygments_lexer": "ipython2",
   "version": "2.7.6"
  }
 },
 "nbformat": 4,
 "nbformat_minor": 0
}
