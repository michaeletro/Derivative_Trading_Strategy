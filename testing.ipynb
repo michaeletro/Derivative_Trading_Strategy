{
 "cells": [
  {
   "cell_type": "code",
   "execution_count": 10,
   "outputs": [
    {
     "name": "stdout",
     "output_type": "stream",
     "text": [
      "Generating a Portfolio Class\n",
      "Generating a Stock Class\n",
      "Generating an Asset Class\n",
      "4\n",
      "Generating an Time Class\n",
      "Generating an API Connection Class\n"
     ]
    }
   ],
   "source": [
    "import pandas as pd\n",
    "\n",
    "from Financial_Products import *\n",
    "\n",
    "s_1 = Portfolio()\n",
    "\n",
    "s_3 = Stock('TSLY')\n"
   ],
   "metadata": {
    "collapsed": false
   }
  },
  {
   "cell_type": "code",
   "execution_count": 3,
   "outputs": [
    {
     "data": {
      "text/plain": "               2024-04-19           2024-05-17           2024-08-16  \\\n1.0   TSLY240419C00001000                  NaN  TSLY240816C00001000   \n7.0   TSLY240419C00007000  TSLY240517C00007000  TSLY240816C00007000   \n8.0   TSLY240419C00008000  TSLY240517C00008000  TSLY240816C00008000   \n9.0   TSLY240419C00009000  TSLY240517C00009000  TSLY240816C00009000   \n10.0  TSLY240419C00010000  TSLY240517C00010000  TSLY240816C00010000   \n11.0  TSLY240419C00011000  TSLY240517C00011000  TSLY240816C00011000   \n12.0  TSLY240419C00012000  TSLY240517C00012000  TSLY240816C00012000   \n13.0  TSLY240419C00013000  TSLY240517C00013000  TSLY240816C00013000   \n14.0  TSLY240419C00014000  TSLY240517C00014000  TSLY240816C00014000   \n15.0  TSLY240419C00015000  TSLY240517C00015000  TSLY240816C00015000   \n16.0  TSLY240419C00016000  TSLY240517C00016000  TSLY240816C00016000   \n17.0  TSLY240419C00017000  TSLY240517C00017000  TSLY240816C00017000   \n18.0  TSLY240419C00018000  TSLY240517C00018000  TSLY240816C00018000   \n19.0  TSLY240419C00019000  TSLY240517C00019000  TSLY240816C00019000   \n20.0  TSLY240419C00020000  TSLY240517C00020000  TSLY240816C00020000   \n21.0  TSLY240419C00021000  TSLY240517C00021000  TSLY240816C00021000   \n5.0                   NaN  TSLY240517C00005000  TSLY240816C00005000   \n6.0                   NaN  TSLY240517C00006000  TSLY240816C00006000   \n22.0                  NaN  TSLY240517C00022000  TSLY240816C00022000   \n23.0                  NaN  TSLY240517C00023000  TSLY240816C00023000   \n25.0                  NaN  TSLY240517C00025000  TSLY240816C00025000   \n2.0                   NaN                  NaN  TSLY240816C00002000   \n3.0                   NaN                  NaN  TSLY240816C00003000   \n4.0                   NaN                  NaN  TSLY240816C00004000   \n24.0                  NaN                  NaN  TSLY240816C00024000   \n\n               2024-11-15  \n1.0                   NaN  \n7.0                   NaN  \n8.0                   NaN  \n9.0                   NaN  \n10.0                  NaN  \n11.0                  NaN  \n12.0  TSLY241115C00012000  \n13.0  TSLY241115C00013000  \n14.0  TSLY241115C00014000  \n15.0  TSLY241115C00015000  \n16.0  TSLY241115C00016000  \n17.0  TSLY241115C00017000  \n18.0  TSLY241115C00018000  \n19.0  TSLY241115C00019000  \n20.0  TSLY241115C00020000  \n21.0                  NaN  \n5.0                   NaN  \n6.0   TSLY241115C00006000  \n22.0  TSLY241115C00022000  \n23.0  TSLY241115C00023000  \n25.0                  NaN  \n2.0                   NaN  \n3.0                   NaN  \n4.0                   NaN  \n24.0                  NaN  ",
      "text/html": "<div>\n<style scoped>\n    .dataframe tbody tr th:only-of-type {\n        vertical-align: middle;\n    }\n\n    .dataframe tbody tr th {\n        vertical-align: top;\n    }\n\n    .dataframe thead th {\n        text-align: right;\n    }\n</style>\n<table border=\"1\" class=\"dataframe\">\n  <thead>\n    <tr style=\"text-align: right;\">\n      <th></th>\n      <th>2024-04-19</th>\n      <th>2024-05-17</th>\n      <th>2024-08-16</th>\n      <th>2024-11-15</th>\n    </tr>\n  </thead>\n  <tbody>\n    <tr>\n      <th>1.0</th>\n      <td>TSLY240419C00001000</td>\n      <td>NaN</td>\n      <td>TSLY240816C00001000</td>\n      <td>NaN</td>\n    </tr>\n    <tr>\n      <th>7.0</th>\n      <td>TSLY240419C00007000</td>\n      <td>TSLY240517C00007000</td>\n      <td>TSLY240816C00007000</td>\n      <td>NaN</td>\n    </tr>\n    <tr>\n      <th>8.0</th>\n      <td>TSLY240419C00008000</td>\n      <td>TSLY240517C00008000</td>\n      <td>TSLY240816C00008000</td>\n      <td>NaN</td>\n    </tr>\n    <tr>\n      <th>9.0</th>\n      <td>TSLY240419C00009000</td>\n      <td>TSLY240517C00009000</td>\n      <td>TSLY240816C00009000</td>\n      <td>NaN</td>\n    </tr>\n    <tr>\n      <th>10.0</th>\n      <td>TSLY240419C00010000</td>\n      <td>TSLY240517C00010000</td>\n      <td>TSLY240816C00010000</td>\n      <td>NaN</td>\n    </tr>\n    <tr>\n      <th>11.0</th>\n      <td>TSLY240419C00011000</td>\n      <td>TSLY240517C00011000</td>\n      <td>TSLY240816C00011000</td>\n      <td>NaN</td>\n    </tr>\n    <tr>\n      <th>12.0</th>\n      <td>TSLY240419C00012000</td>\n      <td>TSLY240517C00012000</td>\n      <td>TSLY240816C00012000</td>\n      <td>TSLY241115C00012000</td>\n    </tr>\n    <tr>\n      <th>13.0</th>\n      <td>TSLY240419C00013000</td>\n      <td>TSLY240517C00013000</td>\n      <td>TSLY240816C00013000</td>\n      <td>TSLY241115C00013000</td>\n    </tr>\n    <tr>\n      <th>14.0</th>\n      <td>TSLY240419C00014000</td>\n      <td>TSLY240517C00014000</td>\n      <td>TSLY240816C00014000</td>\n      <td>TSLY241115C00014000</td>\n    </tr>\n    <tr>\n      <th>15.0</th>\n      <td>TSLY240419C00015000</td>\n      <td>TSLY240517C00015000</td>\n      <td>TSLY240816C00015000</td>\n      <td>TSLY241115C00015000</td>\n    </tr>\n    <tr>\n      <th>16.0</th>\n      <td>TSLY240419C00016000</td>\n      <td>TSLY240517C00016000</td>\n      <td>TSLY240816C00016000</td>\n      <td>TSLY241115C00016000</td>\n    </tr>\n    <tr>\n      <th>17.0</th>\n      <td>TSLY240419C00017000</td>\n      <td>TSLY240517C00017000</td>\n      <td>TSLY240816C00017000</td>\n      <td>TSLY241115C00017000</td>\n    </tr>\n    <tr>\n      <th>18.0</th>\n      <td>TSLY240419C00018000</td>\n      <td>TSLY240517C00018000</td>\n      <td>TSLY240816C00018000</td>\n      <td>TSLY241115C00018000</td>\n    </tr>\n    <tr>\n      <th>19.0</th>\n      <td>TSLY240419C00019000</td>\n      <td>TSLY240517C00019000</td>\n      <td>TSLY240816C00019000</td>\n      <td>TSLY241115C00019000</td>\n    </tr>\n    <tr>\n      <th>20.0</th>\n      <td>TSLY240419C00020000</td>\n      <td>TSLY240517C00020000</td>\n      <td>TSLY240816C00020000</td>\n      <td>TSLY241115C00020000</td>\n    </tr>\n    <tr>\n      <th>21.0</th>\n      <td>TSLY240419C00021000</td>\n      <td>TSLY240517C00021000</td>\n      <td>TSLY240816C00021000</td>\n      <td>NaN</td>\n    </tr>\n    <tr>\n      <th>5.0</th>\n      <td>NaN</td>\n      <td>TSLY240517C00005000</td>\n      <td>TSLY240816C00005000</td>\n      <td>NaN</td>\n    </tr>\n    <tr>\n      <th>6.0</th>\n      <td>NaN</td>\n      <td>TSLY240517C00006000</td>\n      <td>TSLY240816C00006000</td>\n      <td>TSLY241115C00006000</td>\n    </tr>\n    <tr>\n      <th>22.0</th>\n      <td>NaN</td>\n      <td>TSLY240517C00022000</td>\n      <td>TSLY240816C00022000</td>\n      <td>TSLY241115C00022000</td>\n    </tr>\n    <tr>\n      <th>23.0</th>\n      <td>NaN</td>\n      <td>TSLY240517C00023000</td>\n      <td>TSLY240816C00023000</td>\n      <td>TSLY241115C00023000</td>\n    </tr>\n    <tr>\n      <th>25.0</th>\n      <td>NaN</td>\n      <td>TSLY240517C00025000</td>\n      <td>TSLY240816C00025000</td>\n      <td>NaN</td>\n    </tr>\n    <tr>\n      <th>2.0</th>\n      <td>NaN</td>\n      <td>NaN</td>\n      <td>TSLY240816C00002000</td>\n      <td>NaN</td>\n    </tr>\n    <tr>\n      <th>3.0</th>\n      <td>NaN</td>\n      <td>NaN</td>\n      <td>TSLY240816C00003000</td>\n      <td>NaN</td>\n    </tr>\n    <tr>\n      <th>4.0</th>\n      <td>NaN</td>\n      <td>NaN</td>\n      <td>TSLY240816C00004000</td>\n      <td>NaN</td>\n    </tr>\n    <tr>\n      <th>24.0</th>\n      <td>NaN</td>\n      <td>NaN</td>\n      <td>TSLY240816C00024000</td>\n      <td>NaN</td>\n    </tr>\n  </tbody>\n</table>\n</div>"
     },
     "execution_count": 3,
     "metadata": {},
     "output_type": "execute_result"
    }
   ],
   "source": [
    "s_3.call_options"
   ],
   "metadata": {
    "collapsed": false
   }
  },
  {
   "cell_type": "code",
   "execution_count": 4,
   "outputs": [
    {
     "data": {
      "text/plain": "<Derivative_Trading_Strategy.Financial_Products.Stock.Stock at 0x107c5f850>"
     },
     "execution_count": 4,
     "metadata": {},
     "output_type": "execute_result"
    }
   ],
   "source": [
    "s_3"
   ],
   "metadata": {
    "collapsed": false
   }
  },
  {
   "cell_type": "code",
   "execution_count": 5,
   "outputs": [],
   "source": [
    "option_c = s_3.generate_option_ticker()"
   ],
   "metadata": {
    "collapsed": false
   }
  },
  {
   "cell_type": "code",
   "execution_count": 11,
   "outputs": [
    {
     "ename": "ValueError",
     "evalue": "If using all scalar values, you must pass an index",
     "output_type": "error",
     "traceback": [
      "\u001B[0;31m---------------------------------------------------------------------------\u001B[0m",
      "\u001B[0;31mValueError\u001B[0m                                Traceback (most recent call last)",
      "Cell \u001B[0;32mIn[11], line 1\u001B[0m\n\u001B[0;32m----> 1\u001B[0m \u001B[43mpd\u001B[49m\u001B[38;5;241;43m.\u001B[39;49m\u001B[43mDataFrame\u001B[49m\u001B[43m(\u001B[49m\u001B[43moption_c\u001B[49m\u001B[43m)\u001B[49m\n",
      "File \u001B[0;32m~/Desktop/Polygon_API_Trading_Strategy/lib/python3.10/site-packages/pandas/core/frame.py:733\u001B[0m, in \u001B[0;36mDataFrame.__init__\u001B[0;34m(self, data, index, columns, dtype, copy)\u001B[0m\n\u001B[1;32m    727\u001B[0m     mgr \u001B[38;5;241m=\u001B[39m \u001B[38;5;28mself\u001B[39m\u001B[38;5;241m.\u001B[39m_init_mgr(\n\u001B[1;32m    728\u001B[0m         data, axes\u001B[38;5;241m=\u001B[39m{\u001B[38;5;124m\"\u001B[39m\u001B[38;5;124mindex\u001B[39m\u001B[38;5;124m\"\u001B[39m: index, \u001B[38;5;124m\"\u001B[39m\u001B[38;5;124mcolumns\u001B[39m\u001B[38;5;124m\"\u001B[39m: columns}, dtype\u001B[38;5;241m=\u001B[39mdtype, copy\u001B[38;5;241m=\u001B[39mcopy\n\u001B[1;32m    729\u001B[0m     )\n\u001B[1;32m    731\u001B[0m \u001B[38;5;28;01melif\u001B[39;00m \u001B[38;5;28misinstance\u001B[39m(data, \u001B[38;5;28mdict\u001B[39m):\n\u001B[1;32m    732\u001B[0m     \u001B[38;5;66;03m# GH#38939 de facto copy defaults to False only in non-dict cases\u001B[39;00m\n\u001B[0;32m--> 733\u001B[0m     mgr \u001B[38;5;241m=\u001B[39m \u001B[43mdict_to_mgr\u001B[49m\u001B[43m(\u001B[49m\u001B[43mdata\u001B[49m\u001B[43m,\u001B[49m\u001B[43m \u001B[49m\u001B[43mindex\u001B[49m\u001B[43m,\u001B[49m\u001B[43m \u001B[49m\u001B[43mcolumns\u001B[49m\u001B[43m,\u001B[49m\u001B[43m \u001B[49m\u001B[43mdtype\u001B[49m\u001B[38;5;241;43m=\u001B[39;49m\u001B[43mdtype\u001B[49m\u001B[43m,\u001B[49m\u001B[43m \u001B[49m\u001B[43mcopy\u001B[49m\u001B[38;5;241;43m=\u001B[39;49m\u001B[43mcopy\u001B[49m\u001B[43m,\u001B[49m\u001B[43m \u001B[49m\u001B[43mtyp\u001B[49m\u001B[38;5;241;43m=\u001B[39;49m\u001B[43mmanager\u001B[49m\u001B[43m)\u001B[49m\n\u001B[1;32m    734\u001B[0m \u001B[38;5;28;01melif\u001B[39;00m \u001B[38;5;28misinstance\u001B[39m(data, ma\u001B[38;5;241m.\u001B[39mMaskedArray):\n\u001B[1;32m    735\u001B[0m     \u001B[38;5;28;01mfrom\u001B[39;00m \u001B[38;5;21;01mnumpy\u001B[39;00m\u001B[38;5;21;01m.\u001B[39;00m\u001B[38;5;21;01mma\u001B[39;00m \u001B[38;5;28;01mimport\u001B[39;00m mrecords\n",
      "File \u001B[0;32m~/Desktop/Polygon_API_Trading_Strategy/lib/python3.10/site-packages/pandas/core/internals/construction.py:503\u001B[0m, in \u001B[0;36mdict_to_mgr\u001B[0;34m(data, index, columns, dtype, typ, copy)\u001B[0m\n\u001B[1;32m    499\u001B[0m     \u001B[38;5;28;01melse\u001B[39;00m:\n\u001B[1;32m    500\u001B[0m         \u001B[38;5;66;03m# dtype check to exclude e.g. range objects, scalars\u001B[39;00m\n\u001B[1;32m    501\u001B[0m         arrays \u001B[38;5;241m=\u001B[39m [x\u001B[38;5;241m.\u001B[39mcopy() \u001B[38;5;28;01mif\u001B[39;00m \u001B[38;5;28mhasattr\u001B[39m(x, \u001B[38;5;124m\"\u001B[39m\u001B[38;5;124mdtype\u001B[39m\u001B[38;5;124m\"\u001B[39m) \u001B[38;5;28;01melse\u001B[39;00m x \u001B[38;5;28;01mfor\u001B[39;00m x \u001B[38;5;129;01min\u001B[39;00m arrays]\n\u001B[0;32m--> 503\u001B[0m \u001B[38;5;28;01mreturn\u001B[39;00m \u001B[43marrays_to_mgr\u001B[49m\u001B[43m(\u001B[49m\u001B[43marrays\u001B[49m\u001B[43m,\u001B[49m\u001B[43m \u001B[49m\u001B[43mcolumns\u001B[49m\u001B[43m,\u001B[49m\u001B[43m \u001B[49m\u001B[43mindex\u001B[49m\u001B[43m,\u001B[49m\u001B[43m \u001B[49m\u001B[43mdtype\u001B[49m\u001B[38;5;241;43m=\u001B[39;49m\u001B[43mdtype\u001B[49m\u001B[43m,\u001B[49m\u001B[43m \u001B[49m\u001B[43mtyp\u001B[49m\u001B[38;5;241;43m=\u001B[39;49m\u001B[43mtyp\u001B[49m\u001B[43m,\u001B[49m\u001B[43m \u001B[49m\u001B[43mconsolidate\u001B[49m\u001B[38;5;241;43m=\u001B[39;49m\u001B[43mcopy\u001B[49m\u001B[43m)\u001B[49m\n",
      "File \u001B[0;32m~/Desktop/Polygon_API_Trading_Strategy/lib/python3.10/site-packages/pandas/core/internals/construction.py:114\u001B[0m, in \u001B[0;36marrays_to_mgr\u001B[0;34m(arrays, columns, index, dtype, verify_integrity, typ, consolidate)\u001B[0m\n\u001B[1;32m    111\u001B[0m \u001B[38;5;28;01mif\u001B[39;00m verify_integrity:\n\u001B[1;32m    112\u001B[0m     \u001B[38;5;66;03m# figure out the index, if necessary\u001B[39;00m\n\u001B[1;32m    113\u001B[0m     \u001B[38;5;28;01mif\u001B[39;00m index \u001B[38;5;129;01mis\u001B[39;00m \u001B[38;5;28;01mNone\u001B[39;00m:\n\u001B[0;32m--> 114\u001B[0m         index \u001B[38;5;241m=\u001B[39m \u001B[43m_extract_index\u001B[49m\u001B[43m(\u001B[49m\u001B[43marrays\u001B[49m\u001B[43m)\u001B[49m\n\u001B[1;32m    115\u001B[0m     \u001B[38;5;28;01melse\u001B[39;00m:\n\u001B[1;32m    116\u001B[0m         index \u001B[38;5;241m=\u001B[39m ensure_index(index)\n",
      "File \u001B[0;32m~/Desktop/Polygon_API_Trading_Strategy/lib/python3.10/site-packages/pandas/core/internals/construction.py:667\u001B[0m, in \u001B[0;36m_extract_index\u001B[0;34m(data)\u001B[0m\n\u001B[1;32m    664\u001B[0m         \u001B[38;5;28;01mraise\u001B[39;00m \u001B[38;5;167;01mValueError\u001B[39;00m(\u001B[38;5;124m\"\u001B[39m\u001B[38;5;124mPer-column arrays must each be 1-dimensional\u001B[39m\u001B[38;5;124m\"\u001B[39m)\n\u001B[1;32m    666\u001B[0m \u001B[38;5;28;01mif\u001B[39;00m \u001B[38;5;129;01mnot\u001B[39;00m indexes \u001B[38;5;129;01mand\u001B[39;00m \u001B[38;5;129;01mnot\u001B[39;00m raw_lengths:\n\u001B[0;32m--> 667\u001B[0m     \u001B[38;5;28;01mraise\u001B[39;00m \u001B[38;5;167;01mValueError\u001B[39;00m(\u001B[38;5;124m\"\u001B[39m\u001B[38;5;124mIf using all scalar values, you must pass an index\u001B[39m\u001B[38;5;124m\"\u001B[39m)\n\u001B[1;32m    669\u001B[0m \u001B[38;5;28;01mif\u001B[39;00m have_series:\n\u001B[1;32m    670\u001B[0m     index \u001B[38;5;241m=\u001B[39m union_indexes(indexes)\n",
      "\u001B[0;31mValueError\u001B[0m: If using all scalar values, you must pass an index"
     ]
    }
   ],
   "source": [
    "pd.DataFrame(option_c)"
   ],
   "metadata": {
    "collapsed": false
   }
  },
  {
   "cell_type": "code",
   "execution_count": 1,
   "outputs": [
    {
     "ename": "NameError",
     "evalue": "name 'p_2' is not defined",
     "output_type": "error",
     "traceback": [
      "\u001B[0;31m---------------------------------------------------------------------------\u001B[0m",
      "\u001B[0;31mNameError\u001B[0m                                 Traceback (most recent call last)",
      "Cell \u001B[0;32mIn[1], line 1\u001B[0m\n\u001B[0;32m----> 1\u001B[0m \u001B[38;5;28mdelattr\u001B[39m(\u001B[43mp_2\u001B[49m\u001B[38;5;241m.\u001B[39mstock_position, \u001B[38;5;124m'\u001B[39m\u001B[38;5;124mstock_position\u001B[39m\u001B[38;5;124m'\u001B[39m)\n",
      "\u001B[0;31mNameError\u001B[0m: name 'p_2' is not defined"
     ]
    }
   ],
   "source": [
    "delattr(p_2.stock_position, 'stock_position')\n"
   ],
   "metadata": {
    "collapsed": false
   }
  },
  {
   "cell_type": "code",
   "execution_count": null,
   "outputs": [],
   "source": [
    "p_2.portfolio_of_assets"
   ],
   "metadata": {
    "collapsed": false
   }
  },
  {
   "cell_type": "code",
   "execution_count": 62,
   "outputs": [
    {
     "ename": "IndexError",
     "evalue": "index 4 is out of bounds for axis 0 with size 4",
     "output_type": "error",
     "traceback": [
      "\u001B[0;31m---------------------------------------------------------------------------\u001B[0m",
      "\u001B[0;31mIndexError\u001B[0m                                Traceback (most recent call last)",
      "Cell \u001B[0;32mIn[62], line 1\u001B[0m\n\u001B[0;32m----> 1\u001B[0m \u001B[43ms_3\u001B[49m\u001B[38;5;241;43m.\u001B[39;49m\u001B[43mget_option_by_index\u001B[49m\u001B[43m(\u001B[49m\u001B[38;5;124;43m'\u001B[39;49m\u001B[38;5;124;43mput\u001B[39;49m\u001B[38;5;124;43m'\u001B[39;49m\u001B[43m,\u001B[49m\u001B[38;5;241;43m4\u001B[39;49m\u001B[43m)\u001B[49m\n",
      "File \u001B[0;32m~/Desktop/Polygon_API_Trading_Strategy/Derivative_Trading_Strategy/Financial_Products/Stock.py:24\u001B[0m, in \u001B[0;36mStock.get_option_by_index\u001B[0;34m(self, option_type, index_of_date, option_strike)\u001B[0m\n\u001B[1;32m     22\u001B[0m     option_column \u001B[38;5;241m=\u001B[39m \u001B[38;5;28mself\u001B[39m\u001B[38;5;241m.\u001B[39mcall_options[farthest_date_column]\u001B[38;5;241m.\u001B[39msort_index()\n\u001B[1;32m     23\u001B[0m \u001B[38;5;28;01melif\u001B[39;00m option_type\u001B[38;5;241m.\u001B[39mlower() \u001B[38;5;241m==\u001B[39m \u001B[38;5;124m\"\u001B[39m\u001B[38;5;124mput\u001B[39m\u001B[38;5;124m\"\u001B[39m:\n\u001B[0;32m---> 24\u001B[0m     farthest_date_column \u001B[38;5;241m=\u001B[39m \u001B[38;5;28;43mself\u001B[39;49m\u001B[38;5;241;43m.\u001B[39;49m\u001B[43mcall_options\u001B[49m\u001B[38;5;241;43m.\u001B[39;49m\u001B[43mcolumns\u001B[49m\u001B[43m[\u001B[49m\u001B[43mindex_of_date\u001B[49m\u001B[43m]\u001B[49m\n\u001B[1;32m     25\u001B[0m     option_column \u001B[38;5;241m=\u001B[39m \u001B[38;5;28mself\u001B[39m\u001B[38;5;241m.\u001B[39mput_options[farthest_date_column]\u001B[38;5;241m.\u001B[39msort_index()\n\u001B[1;32m     27\u001B[0m \u001B[38;5;28;01mif\u001B[39;00m option_strike \u001B[38;5;241m==\u001B[39m \u001B[38;5;28;01mNone\u001B[39;00m:\n",
      "File \u001B[0;32m~/Desktop/Polygon_API_Trading_Strategy/lib/python3.10/site-packages/pandas/core/indexes/base.py:5366\u001B[0m, in \u001B[0;36mIndex.__getitem__\u001B[0;34m(self, key)\u001B[0m\n\u001B[1;32m   5363\u001B[0m \u001B[38;5;28;01mif\u001B[39;00m is_integer(key) \u001B[38;5;129;01mor\u001B[39;00m is_float(key):\n\u001B[1;32m   5364\u001B[0m     \u001B[38;5;66;03m# GH#44051 exclude bool, which would return a 2d ndarray\u001B[39;00m\n\u001B[1;32m   5365\u001B[0m     key \u001B[38;5;241m=\u001B[39m com\u001B[38;5;241m.\u001B[39mcast_scalar_indexer(key)\n\u001B[0;32m-> 5366\u001B[0m     \u001B[38;5;28;01mreturn\u001B[39;00m \u001B[43mgetitem\u001B[49m\u001B[43m(\u001B[49m\u001B[43mkey\u001B[49m\u001B[43m)\u001B[49m\n\u001B[1;32m   5368\u001B[0m \u001B[38;5;28;01mif\u001B[39;00m \u001B[38;5;28misinstance\u001B[39m(key, \u001B[38;5;28mslice\u001B[39m):\n\u001B[1;32m   5369\u001B[0m     \u001B[38;5;66;03m# This case is separated from the conditional above to avoid\u001B[39;00m\n\u001B[1;32m   5370\u001B[0m     \u001B[38;5;66;03m# pessimization com.is_bool_indexer and ndim checks.\u001B[39;00m\n\u001B[1;32m   5371\u001B[0m     \u001B[38;5;28;01mreturn\u001B[39;00m \u001B[38;5;28mself\u001B[39m\u001B[38;5;241m.\u001B[39m_getitem_slice(key)\n",
      "\u001B[0;31mIndexError\u001B[0m: index 4 is out of bounds for axis 0 with size 4"
     ]
    }
   ],
   "source": [
    "s_3.get_option_by_index('put',4)"
   ],
   "metadata": {
    "collapsed": false
   }
  },
  {
   "cell_type": "code",
   "execution_count": 63,
   "outputs": [
    {
     "data": {
      "text/plain": "<Derivative_Trading_Strategy.Financial_Products.Stock.Stock at 0x127e46440>"
     },
     "execution_count": 63,
     "metadata": {},
     "output_type": "execute_result"
    }
   ],
   "source": [
    "s_3"
   ],
   "metadata": {
    "collapsed": false
   }
  },
  {
   "cell_type": "code",
   "execution_count": null,
   "outputs": [],
   "source": [],
   "metadata": {
    "collapsed": false
   }
  },
  {
   "cell_type": "code",
   "execution_count": null,
   "outputs": [],
   "source": [],
   "metadata": {
    "collapsed": false
   }
  }
 ],
 "metadata": {
  "kernelspec": {
   "display_name": "Python 3",
   "language": "python",
   "name": "python3"
  },
  "language_info": {
   "codemirror_mode": {
    "name": "ipython",
    "version": 2
   },
   "file_extension": ".py",
   "mimetype": "text/x-python",
   "name": "python",
   "nbconvert_exporter": "python",
   "pygments_lexer": "ipython2",
   "version": "2.7.6"
  }
 },
 "nbformat": 4,
 "nbformat_minor": 0
}
