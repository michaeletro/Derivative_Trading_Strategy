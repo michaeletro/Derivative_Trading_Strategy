{
 "cells": [
  {
   "cell_type": "code",
   "id": "initial_id",
   "metadata": {
    "collapsed": true,
    "ExecuteTime": {
     "end_time": "2024-12-15T05:57:54.958431Z",
     "start_time": "2024-12-15T05:57:54.377194Z"
    }
   },
   "source": [
    "import Financial_Products\n",
    "from Financial_Products import (\n",
    "    Asset_Class, Option_Class, Index_Class, Portfolio_Class,\n",
    "    Crypto_Class, Cash_Class, Stock_Class, Forex_Class,\n",
    "    Time_Series_Class)"
   ],
   "outputs": [],
   "execution_count": 2
  },
  {
   "metadata": {
    "ExecuteTime": {
     "end_time": "2024-12-15T05:58:27.228070Z",
     "start_time": "2024-12-15T05:58:22.343790Z"
    }
   },
   "cell_type": "code",
   "source": "Asset_Class('AAPL')",
   "id": "1f4394a3f6041d0a",
   "outputs": [
    {
     "name": "stdout",
     "output_type": "stream",
     "text": [
      "Generating an Asset Class\n",
      "4\n",
      "Generating an Time Class\n",
      "Generating an API Connection Class\n",
      "Type Error of string indices must be integers, not 'list'\n"
     ]
    },
    {
     "data": {
      "text/plain": [
       "<Financial_Products.Asset.Asset_Class at 0x2b0c376c680>"
      ]
     },
     "execution_count": 5,
     "metadata": {},
     "output_type": "execute_result"
    }
   ],
   "execution_count": 5
  },
  {
   "metadata": {
    "ExecuteTime": {
     "end_time": "2024-12-15T04:55:03.671933Z",
     "start_time": "2024-12-15T04:55:00.440475Z"
    }
   },
   "cell_type": "code",
   "source": "Asset_Class('AAPL')",
   "id": "79fe509a09415d19",
   "outputs": [
    {
     "name": "stdout",
     "output_type": "stream",
     "text": [
      "Generating an Asset Class\n",
      "4\n",
      "Generating an Time Class\n",
      "Generating an API Connection Class\n",
      "Type Error of string indices must be integers, not 'list'\n"
     ]
    },
    {
     "data": {
      "text/plain": [
       "<Financial_Products.Asset.Asset_Class at 0x23e4e7496d0>"
      ]
     },
     "execution_count": 19,
     "metadata": {},
     "output_type": "execute_result"
    }
   ],
   "execution_count": 19
  },
  {
   "metadata": {},
   "cell_type": "code",
   "outputs": [],
   "execution_count": null,
   "source": "",
   "id": "12b666e8780c6ace"
  }
 ],
 "metadata": {
  "kernelspec": {
   "display_name": "Python 3",
   "language": "python",
   "name": "python3"
  },
  "language_info": {
   "codemirror_mode": {
    "name": "ipython",
    "version": 2
   },
   "file_extension": ".py",
   "mimetype": "text/x-python",
   "name": "python",
   "nbconvert_exporter": "python",
   "pygments_lexer": "ipython2",
   "version": "2.7.6"
  }
 },
 "nbformat": 4,
 "nbformat_minor": 5
}
