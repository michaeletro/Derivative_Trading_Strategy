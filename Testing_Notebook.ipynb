{
 "cells": [
  {
   "cell_type": "code",
   "id": "initial_id",
   "metadata": {
    "collapsed": true,
    "ExecuteTime": {
     "end_time": "2024-12-15T08:06:29.796787Z",
     "start_time": "2024-12-15T08:06:29.771206Z"
    }
   },
   "source": [
    "import Financial_Products\n",
    "from Financial_Products import (\n",
    "    Asset_Class, Option_Class, Index_Class, Portfolio_Class,\n",
    "    Crypto_Class, Cash_Class, Stock_Class, Forex_Class,\n",
    "    Time_Series_Class)"
   ],
   "outputs": [
    {
     "ename": "ImportError",
     "evalue": "cannot import name 'Asset_Class' from partially initialized module 'Financial_Products.Asset' (most likely due to a circular import) (C:\\Users\\mpere\\PycharmProjects\\Derivative_Trading_Strategy\\Financial_Products\\Asset.py)",
     "output_type": "error",
     "traceback": [
      "\u001B[1;31m---------------------------------------------------------------------------\u001B[0m",
      "\u001B[1;31mImportError\u001B[0m                               Traceback (most recent call last)",
      "Cell \u001B[1;32mIn[2], line 1\u001B[0m\n\u001B[1;32m----> 1\u001B[0m \u001B[38;5;28;01mimport\u001B[39;00m \u001B[38;5;21;01mFinancial_Products\u001B[39;00m\n\u001B[0;32m      2\u001B[0m \u001B[38;5;28;01mfrom\u001B[39;00m \u001B[38;5;21;01mFinancial_Products\u001B[39;00m \u001B[38;5;28;01mimport\u001B[39;00m (\n\u001B[0;32m      3\u001B[0m     Asset_Class, Option_Class, Index_Class, Portfolio_Class,\n\u001B[0;32m      4\u001B[0m     Crypto_Class, Cash_Class, Stock_Class, Forex_Class,\n\u001B[0;32m      5\u001B[0m     Time_Series_Class)\n",
      "File \u001B[1;32m~\\PycharmProjects\\Derivative_Trading_Strategy\\Financial_Products\\__init__.py:34\u001B[0m\n\u001B[0;32m      1\u001B[0m \u001B[38;5;124;03m\"\"\"\u001B[39;00m\n\u001B[0;32m      2\u001B[0m \u001B[38;5;124;03mThis module initializes the financial products package by importing various classes for managing different types of financial assets.\u001B[39;00m\n\u001B[0;32m      3\u001B[0m \n\u001B[1;32m   (...)\u001B[0m\n\u001B[0;32m     31\u001B[0m \u001B[38;5;124;03m    Imports the Time_Series_Class for managing time series data.\u001B[39;00m\n\u001B[0;32m     32\u001B[0m \u001B[38;5;124;03m\"\"\"\u001B[39;00m\n\u001B[1;32m---> 34\u001B[0m \u001B[38;5;28;01mfrom\u001B[39;00m \u001B[38;5;21;01mFinancial_Products\u001B[39;00m\u001B[38;5;21;01m.\u001B[39;00m\u001B[38;5;21;01mAsset\u001B[39;00m \u001B[38;5;28;01mimport\u001B[39;00m Asset_Class\n\u001B[0;32m     35\u001B[0m \u001B[38;5;28;01mfrom\u001B[39;00m \u001B[38;5;21;01mFinancial_Products\u001B[39;00m\u001B[38;5;21;01m.\u001B[39;00m\u001B[38;5;21;01mCash\u001B[39;00m \u001B[38;5;28;01mimport\u001B[39;00m Cash_Class\n\u001B[0;32m     36\u001B[0m \u001B[38;5;28;01mfrom\u001B[39;00m \u001B[38;5;21;01mFinancial_Products\u001B[39;00m\u001B[38;5;21;01m.\u001B[39;00m\u001B[38;5;21;01mCrypto\u001B[39;00m \u001B[38;5;28;01mimport\u001B[39;00m Crypto_Class\n",
      "File \u001B[1;32m~\\PycharmProjects\\Derivative_Trading_Strategy\\Financial_Products\\Asset.py:7\u001B[0m\n\u001B[0;32m      4\u001B[0m \u001B[38;5;28;01mimport\u001B[39;00m \u001B[38;5;21;01mre\u001B[39;00m\n\u001B[0;32m      6\u001B[0m \u001B[38;5;28;01mfrom\u001B[39;00m \u001B[38;5;21;01mFinancial_Products\u001B[39;00m\u001B[38;5;21;01m.\u001B[39;00m\u001B[38;5;21;01mTime_Series\u001B[39;00m \u001B[38;5;28;01mimport\u001B[39;00m Time_Series_Class\n\u001B[1;32m----> 7\u001B[0m \u001B[38;5;28;01mfrom\u001B[39;00m \u001B[38;5;21;01mFinancial_Products\u001B[39;00m\u001B[38;5;21;01m.\u001B[39;00m\u001B[38;5;21;01mCash\u001B[39;00m \u001B[38;5;28;01mimport\u001B[39;00m Cash_Class\n\u001B[0;32m      8\u001B[0m \u001B[38;5;28;01mfrom\u001B[39;00m \u001B[38;5;21;01mFinancial_Products\u001B[39;00m\u001B[38;5;21;01m.\u001B[39;00m\u001B[38;5;21;01mCrypto\u001B[39;00m \u001B[38;5;28;01mimport\u001B[39;00m Crypto_Class\n\u001B[0;32m      9\u001B[0m \u001B[38;5;28;01mfrom\u001B[39;00m \u001B[38;5;21;01mFinancial_Products\u001B[39;00m\u001B[38;5;21;01m.\u001B[39;00m\u001B[38;5;21;01mForex\u001B[39;00m \u001B[38;5;28;01mimport\u001B[39;00m Forex_Class\n",
      "File \u001B[1;32m~\\PycharmProjects\\Derivative_Trading_Strategy\\Financial_Products\\Cash.py:1\u001B[0m\n\u001B[1;32m----> 1\u001B[0m \u001B[38;5;28;01mfrom\u001B[39;00m \u001B[38;5;21;01mFinancial_Products\u001B[39;00m\u001B[38;5;21;01m.\u001B[39;00m\u001B[38;5;21;01mAsset\u001B[39;00m \u001B[38;5;28;01mimport\u001B[39;00m Asset_Class\n\u001B[0;32m      3\u001B[0m \u001B[38;5;28;01mclass\u001B[39;00m \u001B[38;5;21;01mCash_Class\u001B[39;00m(Asset_Class):\n\u001B[0;32m      4\u001B[0m \u001B[38;5;250m    \u001B[39m\u001B[38;5;124;03m\"\"\"\u001B[39;00m\n\u001B[0;32m      5\u001B[0m \u001B[38;5;124;03m    This module defines the `Cash_Class` for managing cash data in the financial products package.\u001B[39;00m\n\u001B[0;32m      6\u001B[0m \n\u001B[1;32m   (...)\u001B[0m\n\u001B[0;32m     24\u001B[0m \u001B[38;5;124;03m            Checks if the new financing amount is equal to the current cash amount.\u001B[39;00m\n\u001B[0;32m     25\u001B[0m \u001B[38;5;124;03m    \"\"\"\u001B[39;00m\n",
      "\u001B[1;31mImportError\u001B[0m: cannot import name 'Asset_Class' from partially initialized module 'Financial_Products.Asset' (most likely due to a circular import) (C:\\Users\\mpere\\PycharmProjects\\Derivative_Trading_Strategy\\Financial_Products\\Asset.py)"
     ]
    }
   ],
   "execution_count": 2
  },
  {
   "metadata": {
    "ExecuteTime": {
     "end_time": "2024-12-15T08:07:13.036865Z",
     "start_time": "2024-12-15T08:07:12.357647Z"
    }
   },
   "cell_type": "code",
   "source": [
    "import Financial_Products\n",
    "from Financial_Products import Time_Series_Class"
   ],
   "id": "ce6948f498d5cbe3",
   "outputs": [
    {
     "ename": "ImportError",
     "evalue": "cannot import name 'Asset_Class' from partially initialized module 'Financial_Products.Asset' (most likely due to a circular import) (C:\\Users\\mpere\\PycharmProjects\\Derivative_Trading_Strategy\\Financial_Products\\Asset.py)",
     "output_type": "error",
     "traceback": [
      "\u001B[1;31m---------------------------------------------------------------------------\u001B[0m",
      "\u001B[1;31mImportError\u001B[0m                               Traceback (most recent call last)",
      "Cell \u001B[1;32mIn[1], line 1\u001B[0m\n\u001B[1;32m----> 1\u001B[0m \u001B[38;5;28;01mimport\u001B[39;00m \u001B[38;5;21;01mFinancial_Products\u001B[39;00m\n\u001B[0;32m      2\u001B[0m \u001B[38;5;28;01mfrom\u001B[39;00m \u001B[38;5;21;01mFinancial_Products\u001B[39;00m \u001B[38;5;28;01mimport\u001B[39;00m Time_Series_Class\n",
      "File \u001B[1;32m~\\PycharmProjects\\Derivative_Trading_Strategy\\Financial_Products\\__init__.py:34\u001B[0m\n\u001B[0;32m      1\u001B[0m \u001B[38;5;124;03m\"\"\"\u001B[39;00m\n\u001B[0;32m      2\u001B[0m \u001B[38;5;124;03mThis module initializes the financial products package by importing various classes for managing different types of financial assets.\u001B[39;00m\n\u001B[0;32m      3\u001B[0m \n\u001B[1;32m   (...)\u001B[0m\n\u001B[0;32m     31\u001B[0m \u001B[38;5;124;03m    Imports the Time_Series_Class for managing time series data.\u001B[39;00m\n\u001B[0;32m     32\u001B[0m \u001B[38;5;124;03m\"\"\"\u001B[39;00m\n\u001B[1;32m---> 34\u001B[0m \u001B[38;5;28;01mfrom\u001B[39;00m \u001B[38;5;21;01mFinancial_Products\u001B[39;00m\u001B[38;5;21;01m.\u001B[39;00m\u001B[38;5;21;01mAsset\u001B[39;00m \u001B[38;5;28;01mimport\u001B[39;00m Asset_Class\n\u001B[0;32m     35\u001B[0m \u001B[38;5;28;01mfrom\u001B[39;00m \u001B[38;5;21;01mFinancial_Products\u001B[39;00m\u001B[38;5;21;01m.\u001B[39;00m\u001B[38;5;21;01mCash\u001B[39;00m \u001B[38;5;28;01mimport\u001B[39;00m Cash_Class\n\u001B[0;32m     36\u001B[0m \u001B[38;5;28;01mfrom\u001B[39;00m \u001B[38;5;21;01mFinancial_Products\u001B[39;00m\u001B[38;5;21;01m.\u001B[39;00m\u001B[38;5;21;01mCrypto\u001B[39;00m \u001B[38;5;28;01mimport\u001B[39;00m Crypto_Class\n",
      "File \u001B[1;32m~\\PycharmProjects\\Derivative_Trading_Strategy\\Financial_Products\\Asset.py:7\u001B[0m\n\u001B[0;32m      4\u001B[0m \u001B[38;5;28;01mimport\u001B[39;00m \u001B[38;5;21;01mre\u001B[39;00m\n\u001B[0;32m      6\u001B[0m \u001B[38;5;28;01mfrom\u001B[39;00m \u001B[38;5;21;01mFinancial_Products\u001B[39;00m\u001B[38;5;21;01m.\u001B[39;00m\u001B[38;5;21;01mTime_Series\u001B[39;00m \u001B[38;5;28;01mimport\u001B[39;00m Time_Series_Class\n\u001B[1;32m----> 7\u001B[0m \u001B[38;5;28;01mfrom\u001B[39;00m \u001B[38;5;21;01mFinancial_Products\u001B[39;00m\u001B[38;5;21;01m.\u001B[39;00m\u001B[38;5;21;01mCash\u001B[39;00m \u001B[38;5;28;01mimport\u001B[39;00m Cash_Class\n\u001B[0;32m      8\u001B[0m \u001B[38;5;28;01mfrom\u001B[39;00m \u001B[38;5;21;01mFinancial_Products\u001B[39;00m\u001B[38;5;21;01m.\u001B[39;00m\u001B[38;5;21;01mCrypto\u001B[39;00m \u001B[38;5;28;01mimport\u001B[39;00m Crypto_Class\n\u001B[0;32m      9\u001B[0m \u001B[38;5;28;01mfrom\u001B[39;00m \u001B[38;5;21;01mFinancial_Products\u001B[39;00m\u001B[38;5;21;01m.\u001B[39;00m\u001B[38;5;21;01mForex\u001B[39;00m \u001B[38;5;28;01mimport\u001B[39;00m Forex_Class\n",
      "File \u001B[1;32m~\\PycharmProjects\\Derivative_Trading_Strategy\\Financial_Products\\Cash.py:1\u001B[0m\n\u001B[1;32m----> 1\u001B[0m \u001B[38;5;28;01mfrom\u001B[39;00m \u001B[38;5;21;01mFinancial_Products\u001B[39;00m\u001B[38;5;21;01m.\u001B[39;00m\u001B[38;5;21;01mAsset\u001B[39;00m \u001B[38;5;28;01mimport\u001B[39;00m Asset_Class\n\u001B[0;32m      3\u001B[0m \u001B[38;5;28;01mclass\u001B[39;00m \u001B[38;5;21;01mCash_Class\u001B[39;00m(Asset_Class):\n\u001B[0;32m      4\u001B[0m \u001B[38;5;250m    \u001B[39m\u001B[38;5;124;03m\"\"\"\u001B[39;00m\n\u001B[0;32m      5\u001B[0m \u001B[38;5;124;03m    This module defines the `Cash_Class` for managing cash data in the financial products package.\u001B[39;00m\n\u001B[0;32m      6\u001B[0m \n\u001B[1;32m   (...)\u001B[0m\n\u001B[0;32m     24\u001B[0m \u001B[38;5;124;03m            Checks if the new financing amount is equal to the current cash amount.\u001B[39;00m\n\u001B[0;32m     25\u001B[0m \u001B[38;5;124;03m    \"\"\"\u001B[39;00m\n",
      "\u001B[1;31mImportError\u001B[0m: cannot import name 'Asset_Class' from partially initialized module 'Financial_Products.Asset' (most likely due to a circular import) (C:\\Users\\mpere\\PycharmProjects\\Derivative_Trading_Strategy\\Financial_Products\\Asset.py)"
     ]
    }
   ],
   "execution_count": 1
  },
  {
   "metadata": {
    "ExecuteTime": {
     "end_time": "2024-12-15T07:10:30.390519Z",
     "start_time": "2024-12-15T07:10:26.555211Z"
    }
   },
   "cell_type": "code",
   "source": "APPL = Asset_Class('AAPL')",
   "id": "1f4394a3f6041d0a",
   "outputs": [
    {
     "name": "stdout",
     "output_type": "stream",
     "text": [
      "Generating an Asset Class\n",
      "Generating an Time Class\n",
      "Generating an API Connection Class\n"
     ]
    }
   ],
   "execution_count": 10
  }
 ],
 "metadata": {
  "kernelspec": {
   "display_name": "Python 3",
   "language": "python",
   "name": "python3"
  },
  "language_info": {
   "codemirror_mode": {
    "name": "ipython",
    "version": 2
   },
   "file_extension": ".py",
   "mimetype": "text/x-python",
   "name": "python",
   "nbconvert_exporter": "python",
   "pygments_lexer": "ipython2",
   "version": "2.7.6"
  }
 },
 "nbformat": 4,
 "nbformat_minor": 5
}
