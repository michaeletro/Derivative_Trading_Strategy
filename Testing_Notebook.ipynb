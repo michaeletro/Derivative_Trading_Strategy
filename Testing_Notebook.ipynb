{
 "cells": [
  {
   "cell_type": "code",
   "id": "initial_id",
   "metadata": {
    "collapsed": true,
    "ExecuteTime": {
     "end_time": "2024-12-15T04:49:02.278506Z",
     "start_time": "2024-12-15T04:49:02.275990Z"
    }
   },
   "source": "from Financial_Products import *",
   "outputs": [],
   "execution_count": 15
  },
  {
   "metadata": {
    "ExecuteTime": {
     "end_time": "2024-12-15T04:49:05.705474Z",
     "start_time": "2024-12-15T04:49:02.509019Z"
    }
   },
   "cell_type": "code",
   "source": "Asset_Class('AAPL')",
   "id": "79fe509a09415d19",
   "outputs": [
    {
     "name": "stdout",
     "output_type": "stream",
     "text": [
      "Generating an Asset Class\n",
      "4\n",
      "Generating an Time Class\n",
      "Generating an API Connection Class\n",
      "Type Error of string indices must be integers, not 'list'\n"
     ]
    },
    {
     "data": {
      "text/plain": [
       "<Financial_Products.Asset.Asset_Class at 0x23e4dd9c590>"
      ]
     },
     "execution_count": 16,
     "metadata": {},
     "output_type": "execute_result"
    }
   ],
   "execution_count": 16
  },
  {
   "metadata": {
    "ExecuteTime": {
     "end_time": "2024-12-15T03:39:46.795106Z",
     "start_time": "2024-12-15T03:39:46.787272Z"
    }
   },
   "cell_type": "code",
   "source": "",
   "id": "e400e3c511611da5",
   "outputs": [
    {
     "ename": "TypeError",
     "evalue": "'module' object is not callable",
     "output_type": "error",
     "traceback": [
      "\u001B[1;31m---------------------------------------------------------------------------\u001B[0m",
      "\u001B[1;31mTypeError\u001B[0m                                 Traceback (most recent call last)",
      "Cell \u001B[1;32mIn[174], line 1\u001B[0m\n\u001B[1;32m----> 1\u001B[0m \u001B[43mAsset\u001B[49m\u001B[43m(\u001B[49m\u001B[38;5;124;43m'\u001B[39;49m\u001B[38;5;124;43mAAPL\u001B[39;49m\u001B[38;5;124;43m'\u001B[39;49m\u001B[43m)\u001B[49m\n",
      "\u001B[1;31mTypeError\u001B[0m: 'module' object is not callable"
     ]
    }
   ],
   "execution_count": 174
  },
  {
   "metadata": {},
   "cell_type": "code",
   "outputs": [],
   "execution_count": null,
   "source": "",
   "id": "35d10f31309e51e1"
  }
 ],
 "metadata": {
  "kernelspec": {
   "display_name": "Python 3",
   "language": "python",
   "name": "python3"
  },
  "language_info": {
   "codemirror_mode": {
    "name": "ipython",
    "version": 2
   },
   "file_extension": ".py",
   "mimetype": "text/x-python",
   "name": "python",
   "nbconvert_exporter": "python",
   "pygments_lexer": "ipython2",
   "version": "2.7.6"
  }
 },
 "nbformat": 4,
 "nbformat_minor": 5
}
